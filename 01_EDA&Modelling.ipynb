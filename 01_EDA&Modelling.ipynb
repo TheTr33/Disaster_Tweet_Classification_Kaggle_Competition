{
 "cells": [
  {
   "cell_type": "markdown",
   "metadata": {
    "Collapsed": "false"
   },
   "source": [
    "## Using Twitter for Disaster Alerts "
   ]
  },
  {
   "cell_type": "markdown",
   "metadata": {
    "Collapsed": "false"
   },
   "source": [
    "### Imports"
   ]
  },
  {
   "cell_type": "code",
   "execution_count": 1,
   "metadata": {
    "Collapsed": "false",
    "ExecuteTime": {
     "end_time": "2020-02-27T22:25:15.737413Z",
     "start_time": "2020-02-27T22:25:15.732398Z"
    }
   },
   "outputs": [],
   "source": [
    "# general imports\n",
    "import pandas as pd\n",
    "import numpy as np\n",
    "import matplotlib.pyplot as plt\n",
    "import seaborn as sns\n",
    "%matplotlib inline\n",
    "\n",
    "# imports for tweet cleaning\n",
    "import regex as re\n",
    "from nltk.stem import WordNetLemmatizer\n",
    "from nltk.stem.porter import PorterStemmer\n",
    "from nltk.corpus import stopwords\n",
    "\n",
    "# imports for modeling\n",
    "from sklearn.pipeline import Pipeline\n",
    "from sklearn.model_selection import GridSearchCV, train_test_split\n",
    "from sklearn.ensemble import AdaBoostClassifier, RandomForestClassifier\n",
    "from sklearn.feature_extraction.text import CountVectorizer,TfidfVectorizer\n",
    "from sklearn.svm import SVC\n",
    "from sklearn.metrics import confusion_matrix, f1_score\n",
    "import warnings"
   ]
  },
  {
   "cell_type": "code",
   "execution_count": 2,
   "metadata": {
    "Collapsed": "false",
    "ExecuteTime": {
     "end_time": "2020-02-27T18:36:00.353834Z",
     "start_time": "2020-02-27T18:36:00.306671Z"
    }
   },
   "outputs": [],
   "source": [
    "df = pd.read_csv('./data/train.csv')"
   ]
  },
  {
   "cell_type": "code",
   "execution_count": 58,
   "metadata": {
    "Collapsed": "false"
   },
   "outputs": [
    {
     "data": {
      "text/plain": [
       "(7613, 5)"
      ]
     },
     "execution_count": 58,
     "metadata": {},
     "output_type": "execute_result"
    }
   ],
   "source": [
    "df.shape"
   ]
  },
  {
   "cell_type": "code",
   "execution_count": 3,
   "metadata": {
    "Collapsed": "false",
    "ExecuteTime": {
     "end_time": "2020-02-27T18:36:27.912759Z",
     "start_time": "2020-02-27T18:36:27.898219Z"
    }
   },
   "outputs": [
    {
     "data": {
      "text/html": [
       "<div>\n",
       "<style scoped>\n",
       "    .dataframe tbody tr th:only-of-type {\n",
       "        vertical-align: middle;\n",
       "    }\n",
       "\n",
       "    .dataframe tbody tr th {\n",
       "        vertical-align: top;\n",
       "    }\n",
       "\n",
       "    .dataframe thead th {\n",
       "        text-align: right;\n",
       "    }\n",
       "</style>\n",
       "<table border=\"1\" class=\"dataframe\">\n",
       "  <thead>\n",
       "    <tr style=\"text-align: right;\">\n",
       "      <th></th>\n",
       "      <th>id</th>\n",
       "      <th>keyword</th>\n",
       "      <th>location</th>\n",
       "      <th>text</th>\n",
       "      <th>target</th>\n",
       "    </tr>\n",
       "  </thead>\n",
       "  <tbody>\n",
       "    <tr>\n",
       "      <th>0</th>\n",
       "      <td>1</td>\n",
       "      <td>NaN</td>\n",
       "      <td>NaN</td>\n",
       "      <td>Our Deeds are the Reason of this #earthquake M...</td>\n",
       "      <td>1</td>\n",
       "    </tr>\n",
       "    <tr>\n",
       "      <th>1</th>\n",
       "      <td>4</td>\n",
       "      <td>NaN</td>\n",
       "      <td>NaN</td>\n",
       "      <td>Forest fire near La Ronge Sask. Canada</td>\n",
       "      <td>1</td>\n",
       "    </tr>\n",
       "    <tr>\n",
       "      <th>2</th>\n",
       "      <td>5</td>\n",
       "      <td>NaN</td>\n",
       "      <td>NaN</td>\n",
       "      <td>All residents asked to 'shelter in place' are ...</td>\n",
       "      <td>1</td>\n",
       "    </tr>\n",
       "    <tr>\n",
       "      <th>3</th>\n",
       "      <td>6</td>\n",
       "      <td>NaN</td>\n",
       "      <td>NaN</td>\n",
       "      <td>13,000 people receive #wildfires evacuation or...</td>\n",
       "      <td>1</td>\n",
       "    </tr>\n",
       "    <tr>\n",
       "      <th>4</th>\n",
       "      <td>7</td>\n",
       "      <td>NaN</td>\n",
       "      <td>NaN</td>\n",
       "      <td>Just got sent this photo from Ruby #Alaska as ...</td>\n",
       "      <td>1</td>\n",
       "    </tr>\n",
       "    <tr>\n",
       "      <th>5</th>\n",
       "      <td>8</td>\n",
       "      <td>NaN</td>\n",
       "      <td>NaN</td>\n",
       "      <td>#RockyFire Update =&gt; California Hwy. 20 closed...</td>\n",
       "      <td>1</td>\n",
       "    </tr>\n",
       "    <tr>\n",
       "      <th>6</th>\n",
       "      <td>10</td>\n",
       "      <td>NaN</td>\n",
       "      <td>NaN</td>\n",
       "      <td>#flood #disaster Heavy rain causes flash flood...</td>\n",
       "      <td>1</td>\n",
       "    </tr>\n",
       "    <tr>\n",
       "      <th>7</th>\n",
       "      <td>13</td>\n",
       "      <td>NaN</td>\n",
       "      <td>NaN</td>\n",
       "      <td>I'm on top of the hill and I can see a fire in...</td>\n",
       "      <td>1</td>\n",
       "    </tr>\n",
       "    <tr>\n",
       "      <th>8</th>\n",
       "      <td>14</td>\n",
       "      <td>NaN</td>\n",
       "      <td>NaN</td>\n",
       "      <td>There's an emergency evacuation happening now ...</td>\n",
       "      <td>1</td>\n",
       "    </tr>\n",
       "    <tr>\n",
       "      <th>9</th>\n",
       "      <td>15</td>\n",
       "      <td>NaN</td>\n",
       "      <td>NaN</td>\n",
       "      <td>I'm afraid that the tornado is coming to our a...</td>\n",
       "      <td>1</td>\n",
       "    </tr>\n",
       "    <tr>\n",
       "      <th>10</th>\n",
       "      <td>16</td>\n",
       "      <td>NaN</td>\n",
       "      <td>NaN</td>\n",
       "      <td>Three people died from the heat wave so far</td>\n",
       "      <td>1</td>\n",
       "    </tr>\n",
       "    <tr>\n",
       "      <th>11</th>\n",
       "      <td>17</td>\n",
       "      <td>NaN</td>\n",
       "      <td>NaN</td>\n",
       "      <td>Haha South Tampa is getting flooded hah- WAIT ...</td>\n",
       "      <td>1</td>\n",
       "    </tr>\n",
       "    <tr>\n",
       "      <th>12</th>\n",
       "      <td>18</td>\n",
       "      <td>NaN</td>\n",
       "      <td>NaN</td>\n",
       "      <td>#raining #flooding #Florida #TampaBay #Tampa 1...</td>\n",
       "      <td>1</td>\n",
       "    </tr>\n",
       "    <tr>\n",
       "      <th>13</th>\n",
       "      <td>19</td>\n",
       "      <td>NaN</td>\n",
       "      <td>NaN</td>\n",
       "      <td>#Flood in Bago Myanmar #We arrived Bago</td>\n",
       "      <td>1</td>\n",
       "    </tr>\n",
       "    <tr>\n",
       "      <th>14</th>\n",
       "      <td>20</td>\n",
       "      <td>NaN</td>\n",
       "      <td>NaN</td>\n",
       "      <td>Damage to school bus on 80 in multi car crash ...</td>\n",
       "      <td>1</td>\n",
       "    </tr>\n",
       "    <tr>\n",
       "      <th>15</th>\n",
       "      <td>23</td>\n",
       "      <td>NaN</td>\n",
       "      <td>NaN</td>\n",
       "      <td>What's up man?</td>\n",
       "      <td>0</td>\n",
       "    </tr>\n",
       "    <tr>\n",
       "      <th>16</th>\n",
       "      <td>24</td>\n",
       "      <td>NaN</td>\n",
       "      <td>NaN</td>\n",
       "      <td>I love fruits</td>\n",
       "      <td>0</td>\n",
       "    </tr>\n",
       "    <tr>\n",
       "      <th>17</th>\n",
       "      <td>25</td>\n",
       "      <td>NaN</td>\n",
       "      <td>NaN</td>\n",
       "      <td>Summer is lovely</td>\n",
       "      <td>0</td>\n",
       "    </tr>\n",
       "    <tr>\n",
       "      <th>18</th>\n",
       "      <td>26</td>\n",
       "      <td>NaN</td>\n",
       "      <td>NaN</td>\n",
       "      <td>My car is so fast</td>\n",
       "      <td>0</td>\n",
       "    </tr>\n",
       "    <tr>\n",
       "      <th>19</th>\n",
       "      <td>28</td>\n",
       "      <td>NaN</td>\n",
       "      <td>NaN</td>\n",
       "      <td>What a goooooooaaaaaal!!!!!!</td>\n",
       "      <td>0</td>\n",
       "    </tr>\n",
       "  </tbody>\n",
       "</table>\n",
       "</div>"
      ],
      "text/plain": [
       "    id keyword location                                               text  \\\n",
       "0    1     NaN      NaN  Our Deeds are the Reason of this #earthquake M...   \n",
       "1    4     NaN      NaN             Forest fire near La Ronge Sask. Canada   \n",
       "2    5     NaN      NaN  All residents asked to 'shelter in place' are ...   \n",
       "3    6     NaN      NaN  13,000 people receive #wildfires evacuation or...   \n",
       "4    7     NaN      NaN  Just got sent this photo from Ruby #Alaska as ...   \n",
       "5    8     NaN      NaN  #RockyFire Update => California Hwy. 20 closed...   \n",
       "6   10     NaN      NaN  #flood #disaster Heavy rain causes flash flood...   \n",
       "7   13     NaN      NaN  I'm on top of the hill and I can see a fire in...   \n",
       "8   14     NaN      NaN  There's an emergency evacuation happening now ...   \n",
       "9   15     NaN      NaN  I'm afraid that the tornado is coming to our a...   \n",
       "10  16     NaN      NaN        Three people died from the heat wave so far   \n",
       "11  17     NaN      NaN  Haha South Tampa is getting flooded hah- WAIT ...   \n",
       "12  18     NaN      NaN  #raining #flooding #Florida #TampaBay #Tampa 1...   \n",
       "13  19     NaN      NaN            #Flood in Bago Myanmar #We arrived Bago   \n",
       "14  20     NaN      NaN  Damage to school bus on 80 in multi car crash ...   \n",
       "15  23     NaN      NaN                                     What's up man?   \n",
       "16  24     NaN      NaN                                      I love fruits   \n",
       "17  25     NaN      NaN                                   Summer is lovely   \n",
       "18  26     NaN      NaN                                  My car is so fast   \n",
       "19  28     NaN      NaN                       What a goooooooaaaaaal!!!!!!   \n",
       "\n",
       "    target  \n",
       "0        1  \n",
       "1        1  \n",
       "2        1  \n",
       "3        1  \n",
       "4        1  \n",
       "5        1  \n",
       "6        1  \n",
       "7        1  \n",
       "8        1  \n",
       "9        1  \n",
       "10       1  \n",
       "11       1  \n",
       "12       1  \n",
       "13       1  \n",
       "14       1  \n",
       "15       0  \n",
       "16       0  \n",
       "17       0  \n",
       "18       0  \n",
       "19       0  "
      ]
     },
     "execution_count": 3,
     "metadata": {},
     "output_type": "execute_result"
    }
   ],
   "source": [
    "df.head(20)"
   ]
  },
  {
   "cell_type": "markdown",
   "metadata": {
    "Collapsed": "false"
   },
   "source": [
    "### Tweet Cleaning, and Preprocessing"
   ]
  },
  {
   "cell_type": "markdown",
   "metadata": {
    "Collapsed": "false"
   },
   "source": [
    "First I set up the classifer variable and the variable representing the corpus of tweets. "
   ]
  },
  {
   "cell_type": "code",
   "execution_count": 4,
   "metadata": {
    "Collapsed": "false",
    "ExecuteTime": {
     "end_time": "2020-02-27T22:25:08.249762Z",
     "start_time": "2020-02-27T22:25:08.245774Z"
    }
   },
   "outputs": [],
   "source": [
    "# Set up classifier output variable\n",
    "y = df['target']\n",
    "\n",
    "# Setting up corpus by first removing all website links from tweets\n",
    "X = df['text'].str.replace('http\\S+|www.\\S+', ' ', case = False)"
   ]
  },
  {
   "cell_type": "markdown",
   "metadata": {
    "Collapsed": "false"
   },
   "source": [
    "Within the set up of the corpus, `X` variable, I have already cleaned the tweets of any sort of text that resembles a website link. This will leave the tweets with hashtags, numbers, and mixed cases but the text will be readable by human eyes so as to be able to read through tweets and verify the classification indicated in the `target` column per tweet.<br>  \n",
    "\n",
    "The following function will clean the tweets further by removing non-letters, stopwords, and lowercasing all letters in the tweet. The function will also give me the option to lemmatize or stem the remaining words in the tweets. "
   ]
  },
  {
   "cell_type": "code",
   "execution_count": 5,
   "metadata": {
    "Collapsed": "false"
   },
   "outputs": [],
   "source": [
    "def tweet_cleaning(raw, lemmat = False, stem = False):\n",
    "    # 1. Remove non-letters.\n",
    "    letters_only = re.sub('[^a-zA-Z]', ' ', raw)\n",
    "    \n",
    "    # 2. Convert to lower case, split into individual words.\n",
    "    words = letters_only.lower().split()\n",
    "    \n",
    "    # 3. Join all the stopwords as a string with \" \", remove \"'\" from the stopwords and split it as a list.\n",
    "    stops = \" \".join(stopwords.words('english')).replace(\"'\", \"\").split()\n",
    "    \n",
    "    # 4. Remove stopwords.\n",
    "    meaningful_words = [w for w in words if not w in stops]\n",
    "    \n",
    "    # lemmatizing corpus\n",
    "    if lemmat == True and stem == False:\n",
    "        lemmatizer = WordNetLemmatizer()\n",
    "        lemmatizing = [lemmatizer.lemmatize(word) for word in meaningful_words]\n",
    "        return(\" \".join(lemmatizing))\n",
    "    # Stemming corpus\n",
    "    elif lemmat == False and stem == True:\n",
    "        p_stemmer = PorterStemmer()\n",
    "        stemming = [p_stemmer.stem(word) for word in meaningful_words]\n",
    "        return(\" \".join(stemming))\n",
    "    # Simple cleaning of corpus\n",
    "    else:\n",
    "        return(\" \".join(meaningful_words))"
   ]
  },
  {
   "cell_type": "markdown",
   "metadata": {
    "Collapsed": "false"
   },
   "source": [
    "Stemming the corpus loses the contextual interpretability that might be necessary for visualization when it comes to choosing which words to use in the modeling process. This is evident in the stemmed corpus below where words like \"earthquake\", \"wildfire\" and \"evacuation\" are shortened down to \"earthquak\" and \"wildfir\" and \"evacu\". In the case of \"earthquake\" and \"wildfire\" it is still relativelly easy to guess what the original word was but with a stemmed word like \"evacu\", the original word could have been \"evacuation\", \"evacuate\", \"evacuating\", and so on. When using data such as a tweet, where slang and subtly mispelled words can change the meaning of a tweet, it is important to retain as much of the properly spelled words as possible for the sake of interpretibility of the model when classifying between a disaster and non disaster related tweet."
   ]
  },
  {
   "cell_type": "code",
   "execution_count": 40,
   "metadata": {
    "Collapsed": "false"
   },
   "outputs": [],
   "source": [
    "X_stem = df['text'].str.replace('http\\S+|www.\\S+', ' ', case = False).copy()\n",
    "X_stem = X_stem.apply(lambda tweet: tweet_cleaning(tweet, stem = True))"
   ]
  },
  {
   "cell_type": "code",
   "execution_count": 41,
   "metadata": {
    "Collapsed": "false"
   },
   "outputs": [
    {
     "data": {
      "text/plain": [
       "0            deed reason earthquak may allah forgiv us\n",
       "1                 forest fire near la rong sask canada\n",
       "2    resid ask shelter place notifi offic evacu she...\n",
       "3          peopl receiv wildfir evacu order california\n",
       "4    got sent photo rubi alaska smoke wildfir pour ...\n",
       "Name: text, dtype: object"
      ]
     },
     "execution_count": 41,
     "metadata": {},
     "output_type": "execute_result"
    }
   ],
   "source": [
    "X_stem.head()"
   ]
  },
  {
   "cell_type": "markdown",
   "metadata": {
    "Collapsed": "false"
   },
   "source": [
    "In order to maintain the readability of the tweets, the lemmatizer will be used instead of the stemmer."
   ]
  },
  {
   "cell_type": "code",
   "execution_count": 6,
   "metadata": {
    "Collapsed": "false"
   },
   "outputs": [],
   "source": [
    "X = X.apply(lambda tweet: tweet_cleaning(tweet, lemmat = True))"
   ]
  },
  {
   "cell_type": "code",
   "execution_count": 7,
   "metadata": {
    "Collapsed": "false"
   },
   "outputs": [
    {
     "data": {
      "text/plain": [
       "0           deed reason earthquake may allah forgive u\n",
       "1                forest fire near la ronge sask canada\n",
       "2    resident asked shelter place notified officer ...\n",
       "3    people receive wildfire evacuation order calif...\n",
       "4    got sent photo ruby alaska smoke wildfire pour...\n",
       "Name: text, dtype: object"
      ]
     },
     "execution_count": 7,
     "metadata": {},
     "output_type": "execute_result"
    }
   ],
   "source": [
    "X.head()"
   ]
  },
  {
   "cell_type": "markdown",
   "metadata": {
    "Collapsed": "false"
   },
   "source": [
    "### EDA"
   ]
  },
  {
   "cell_type": "markdown",
   "metadata": {
    "Collapsed": "false"
   },
   "source": [
    "With general text cleaning and processing done, I checked the classification balance of the tweets. While the negative class (non-disaster related tweets) is larger, there is not a significance class imbalance that will require oversampling. However, an adaboost model may be useful to run later for validation purposes just in case.  "
   ]
  },
  {
   "cell_type": "code",
   "execution_count": 12,
   "metadata": {
    "Collapsed": "false"
   },
   "outputs": [
    {
     "data": {
      "text/plain": [
       "0    0.57034\n",
       "1    0.42966\n",
       "Name: target, dtype: float64"
      ]
     },
     "execution_count": 12,
     "metadata": {},
     "output_type": "execute_result"
    },
    {
     "data": {
      "image/png": "[encoded data removed]",
      "text/plain": [
       "<Figure size 432x288 with 1 Axes>"
      ]
     },
     "metadata": {
      "needs_background": "light"
     },
     "output_type": "display_data"
    }
   ],
   "source": [
    "class_balance = y.value_counts(normalize = True)\n",
    "sns.barplot(class_balance.index, class_balance)\n",
    "plt.gca().set_ylabel('tweet percentage')\n",
    "plt.gca().set_title('Tweet Class Balance')\n",
    "class_balance"
   ]
  },
  {
   "cell_type": "markdown",
   "metadata": {
    "Collapsed": "false"
   },
   "source": [
    "The corpus will be processed through a CountVectorizer and a TfidfVectorizer in order to run classification models based off the term frequency as well as the term frequency inverse document frequency of all words in the corpus. The CountVectorizer will model based purely on how often a word appears in the corpus but the TfidfVectorizer will take into account the number of times a word appears in a tweet but also the number of tweets that a word apears in. This will be more useful in the classification model because it will essentially rank a word based off its contextual importance. Words that are high in occurence such as \"like\" or \"the\" will show higher weight in the model in a count vectorized training set. However, a tfidf vectorized training set will rank words by term frequency but put higher weight on words with lower document frequency on the assumption that those words will have higher contextual importance. Both the CountVectorizer and the TfidfVectorizer will be used for comparison. "
   ]
  },
  {
   "cell_type": "code",
   "execution_count": 8,
   "metadata": {
    "Collapsed": "false"
   },
   "outputs": [],
   "source": [
    "#Instantiate Vectorizers\n",
    "cvec = CountVectorizer()\n",
    "tfidf = TfidfVectorizer()\n",
    "\n",
    "# Train/Test Split\n",
    "X_train,X_test, y_train, y_test = train_test_split(X, y, \n",
    "                                                   stratify = y, # maintains the class balance \n",
    "                                                   random_state = 42)"
   ]
  },
  {
   "cell_type": "code",
   "execution_count": 9,
   "metadata": {
    "Collapsed": "false"
   },
   "outputs": [],
   "source": [
    "# Count Vectorized Corpus\n",
    "X_cvec = pd.DataFrame(cvec.fit_transform(X).toarray(),\n",
    "                      columns = cvec.get_feature_names())\n",
    "# TfidfVectorized Corpus\n",
    "X_tfidf = pd.DataFrame(tfidf.fit_transform(X).toarray(),\n",
    "                       columns = tfidf.get_feature_names())\n",
    "# CountVectorized train/test split\n",
    "X_train_cvec = pd.DataFrame(cvec.fit_transform(X_train).toarray(), \n",
    "                       columns = cvec.get_feature_names())\n",
    "X_test_cvec = pd.DataFrame(cvec.transform(X_test).toarray(),\n",
    "                      columns = cvec.get_feature_names())\n",
    "\n",
    "# TfidfVectorized train/test split\n",
    "X_train_tfidf = pd.DataFrame(tfidf.fit_transform(X_train).toarray(), \n",
    "                       columns = tfidf.get_feature_names())\n",
    "X_test_tfidf = pd.DataFrame(tfidf.transform(X_test).toarray(),\n",
    "                      columns = tfidf.get_feature_names())"
   ]
  },
  {
   "cell_type": "code",
   "execution_count": 10,
   "metadata": {
    "Collapsed": "false"
   },
   "outputs": [
    {
     "data": {
      "text/html": [
       "<div>\n",
       "<style scoped>\n",
       "    .dataframe tbody tr th:only-of-type {\n",
       "        vertical-align: middle;\n",
       "    }\n",
       "\n",
       "    .dataframe tbody tr th {\n",
       "        vertical-align: top;\n",
       "    }\n",
       "\n",
       "    .dataframe thead th {\n",
       "        text-align: right;\n",
       "    }\n",
       "</style>\n",
       "<table border=\"1\" class=\"dataframe\">\n",
       "  <thead>\n",
       "    <tr style=\"text-align: right;\">\n",
       "      <th></th>\n",
       "      <th>aa</th>\n",
       "      <th>aaaaaaallll</th>\n",
       "      <th>aaaaaand</th>\n",
       "      <th>aaarrrgghhh</th>\n",
       "      <th>aace</th>\n",
       "      <th>aal</th>\n",
       "      <th>aan</th>\n",
       "      <th>aannnnd</th>\n",
       "      <th>aar</th>\n",
       "      <th>aaronthefm</th>\n",
       "      <th>...</th>\n",
       "      <th>zojadelin</th>\n",
       "      <th>zombie</th>\n",
       "      <th>zone</th>\n",
       "      <th>zoom</th>\n",
       "      <th>zouma</th>\n",
       "      <th>zourryart</th>\n",
       "      <th>zrnf</th>\n",
       "      <th>zumiez</th>\n",
       "      <th>zurich</th>\n",
       "      <th>zxathetis</th>\n",
       "    </tr>\n",
       "  </thead>\n",
       "  <tbody>\n",
       "    <tr>\n",
       "      <th>0</th>\n",
       "      <td>0</td>\n",
       "      <td>0</td>\n",
       "      <td>0</td>\n",
       "      <td>0</td>\n",
       "      <td>0</td>\n",
       "      <td>0</td>\n",
       "      <td>0</td>\n",
       "      <td>0</td>\n",
       "      <td>0</td>\n",
       "      <td>0</td>\n",
       "      <td>...</td>\n",
       "      <td>0</td>\n",
       "      <td>0</td>\n",
       "      <td>0</td>\n",
       "      <td>0</td>\n",
       "      <td>0</td>\n",
       "      <td>0</td>\n",
       "      <td>0</td>\n",
       "      <td>0</td>\n",
       "      <td>0</td>\n",
       "      <td>0</td>\n",
       "    </tr>\n",
       "    <tr>\n",
       "      <th>1</th>\n",
       "      <td>0</td>\n",
       "      <td>0</td>\n",
       "      <td>0</td>\n",
       "      <td>0</td>\n",
       "      <td>0</td>\n",
       "      <td>0</td>\n",
       "      <td>0</td>\n",
       "      <td>0</td>\n",
       "      <td>0</td>\n",
       "      <td>0</td>\n",
       "      <td>...</td>\n",
       "      <td>0</td>\n",
       "      <td>0</td>\n",
       "      <td>0</td>\n",
       "      <td>0</td>\n",
       "      <td>0</td>\n",
       "      <td>0</td>\n",
       "      <td>0</td>\n",
       "      <td>0</td>\n",
       "      <td>0</td>\n",
       "      <td>0</td>\n",
       "    </tr>\n",
       "    <tr>\n",
       "      <th>2</th>\n",
       "      <td>0</td>\n",
       "      <td>0</td>\n",
       "      <td>0</td>\n",
       "      <td>0</td>\n",
       "      <td>0</td>\n",
       "      <td>0</td>\n",
       "      <td>0</td>\n",
       "      <td>0</td>\n",
       "      <td>0</td>\n",
       "      <td>0</td>\n",
       "      <td>...</td>\n",
       "      <td>0</td>\n",
       "      <td>0</td>\n",
       "      <td>0</td>\n",
       "      <td>0</td>\n",
       "      <td>0</td>\n",
       "      <td>0</td>\n",
       "      <td>0</td>\n",
       "      <td>0</td>\n",
       "      <td>0</td>\n",
       "      <td>0</td>\n",
       "    </tr>\n",
       "    <tr>\n",
       "      <th>3</th>\n",
       "      <td>0</td>\n",
       "      <td>0</td>\n",
       "      <td>0</td>\n",
       "      <td>0</td>\n",
       "      <td>0</td>\n",
       "      <td>0</td>\n",
       "      <td>0</td>\n",
       "      <td>0</td>\n",
       "      <td>0</td>\n",
       "      <td>0</td>\n",
       "      <td>...</td>\n",
       "      <td>0</td>\n",
       "      <td>0</td>\n",
       "      <td>0</td>\n",
       "      <td>0</td>\n",
       "      <td>0</td>\n",
       "      <td>0</td>\n",
       "      <td>0</td>\n",
       "      <td>0</td>\n",
       "      <td>0</td>\n",
       "      <td>0</td>\n",
       "    </tr>\n",
       "    <tr>\n",
       "      <th>4</th>\n",
       "      <td>0</td>\n",
       "      <td>0</td>\n",
       "      <td>0</td>\n",
       "      <td>0</td>\n",
       "      <td>0</td>\n",
       "      <td>0</td>\n",
       "      <td>0</td>\n",
       "      <td>0</td>\n",
       "      <td>0</td>\n",
       "      <td>0</td>\n",
       "      <td>...</td>\n",
       "      <td>0</td>\n",
       "      <td>0</td>\n",
       "      <td>0</td>\n",
       "      <td>0</td>\n",
       "      <td>0</td>\n",
       "      <td>0</td>\n",
       "      <td>0</td>\n",
       "      <td>0</td>\n",
       "      <td>0</td>\n",
       "      <td>0</td>\n",
       "    </tr>\n",
       "  </tbody>\n",
       "</table>\n",
       "<p>5 rows × 12504 columns</p>\n",
       "</div>"
      ],
      "text/plain": [
       "   aa  aaaaaaallll  aaaaaand  aaarrrgghhh  aace  aal  aan  aannnnd  aar  \\\n",
       "0   0            0         0            0     0    0    0        0    0   \n",
       "1   0            0         0            0     0    0    0        0    0   \n",
       "2   0            0         0            0     0    0    0        0    0   \n",
       "3   0            0         0            0     0    0    0        0    0   \n",
       "4   0            0         0            0     0    0    0        0    0   \n",
       "\n",
       "   aaronthefm  ...  zojadelin  zombie  zone  zoom  zouma  zourryart  zrnf  \\\n",
       "0           0  ...          0       0     0     0      0          0     0   \n",
       "1           0  ...          0       0     0     0      0          0     0   \n",
       "2           0  ...          0       0     0     0      0          0     0   \n",
       "3           0  ...          0       0     0     0      0          0     0   \n",
       "4           0  ...          0       0     0     0      0          0     0   \n",
       "\n",
       "   zumiez  zurich  zxathetis  \n",
       "0       0       0          0  \n",
       "1       0       0          0  \n",
       "2       0       0          0  \n",
       "3       0       0          0  \n",
       "4       0       0          0  \n",
       "\n",
       "[5 rows x 12504 columns]"
      ]
     },
     "execution_count": 10,
     "metadata": {},
     "output_type": "execute_result"
    }
   ],
   "source": [
    "X_train_cvec.head()"
   ]
  },
  {
   "cell_type": "code",
   "execution_count": 11,
   "metadata": {
    "Collapsed": "false"
   },
   "outputs": [
    {
     "data": {
      "text/html": [
       "<div>\n",
       "<style scoped>\n",
       "    .dataframe tbody tr th:only-of-type {\n",
       "        vertical-align: middle;\n",
       "    }\n",
       "\n",
       "    .dataframe tbody tr th {\n",
       "        vertical-align: top;\n",
       "    }\n",
       "\n",
       "    .dataframe thead th {\n",
       "        text-align: right;\n",
       "    }\n",
       "</style>\n",
       "<table border=\"1\" class=\"dataframe\">\n",
       "  <thead>\n",
       "    <tr style=\"text-align: right;\">\n",
       "      <th></th>\n",
       "      <th>aa</th>\n",
       "      <th>aaaaaaallll</th>\n",
       "      <th>aaaaaand</th>\n",
       "      <th>aaarrrgghhh</th>\n",
       "      <th>aace</th>\n",
       "      <th>aal</th>\n",
       "      <th>aan</th>\n",
       "      <th>aannnnd</th>\n",
       "      <th>aar</th>\n",
       "      <th>aaronthefm</th>\n",
       "      <th>...</th>\n",
       "      <th>zojadelin</th>\n",
       "      <th>zombie</th>\n",
       "      <th>zone</th>\n",
       "      <th>zoom</th>\n",
       "      <th>zouma</th>\n",
       "      <th>zourryart</th>\n",
       "      <th>zrnf</th>\n",
       "      <th>zumiez</th>\n",
       "      <th>zurich</th>\n",
       "      <th>zxathetis</th>\n",
       "    </tr>\n",
       "  </thead>\n",
       "  <tbody>\n",
       "    <tr>\n",
       "      <th>0</th>\n",
       "      <td>0.0</td>\n",
       "      <td>0.0</td>\n",
       "      <td>0.0</td>\n",
       "      <td>0.0</td>\n",
       "      <td>0.0</td>\n",
       "      <td>0.0</td>\n",
       "      <td>0.0</td>\n",
       "      <td>0.0</td>\n",
       "      <td>0.0</td>\n",
       "      <td>0.0</td>\n",
       "      <td>...</td>\n",
       "      <td>0.0</td>\n",
       "      <td>0.0</td>\n",
       "      <td>0.0</td>\n",
       "      <td>0.0</td>\n",
       "      <td>0.0</td>\n",
       "      <td>0.0</td>\n",
       "      <td>0.0</td>\n",
       "      <td>0.0</td>\n",
       "      <td>0.0</td>\n",
       "      <td>0.0</td>\n",
       "    </tr>\n",
       "    <tr>\n",
       "      <th>1</th>\n",
       "      <td>0.0</td>\n",
       "      <td>0.0</td>\n",
       "      <td>0.0</td>\n",
       "      <td>0.0</td>\n",
       "      <td>0.0</td>\n",
       "      <td>0.0</td>\n",
       "      <td>0.0</td>\n",
       "      <td>0.0</td>\n",
       "      <td>0.0</td>\n",
       "      <td>0.0</td>\n",
       "      <td>...</td>\n",
       "      <td>0.0</td>\n",
       "      <td>0.0</td>\n",
       "      <td>0.0</td>\n",
       "      <td>0.0</td>\n",
       "      <td>0.0</td>\n",
       "      <td>0.0</td>\n",
       "      <td>0.0</td>\n",
       "      <td>0.0</td>\n",
       "      <td>0.0</td>\n",
       "      <td>0.0</td>\n",
       "    </tr>\n",
       "    <tr>\n",
       "      <th>2</th>\n",
       "      <td>0.0</td>\n",
       "      <td>0.0</td>\n",
       "      <td>0.0</td>\n",
       "      <td>0.0</td>\n",
       "      <td>0.0</td>\n",
       "      <td>0.0</td>\n",
       "      <td>0.0</td>\n",
       "      <td>0.0</td>\n",
       "      <td>0.0</td>\n",
       "      <td>0.0</td>\n",
       "      <td>...</td>\n",
       "      <td>0.0</td>\n",
       "      <td>0.0</td>\n",
       "      <td>0.0</td>\n",
       "      <td>0.0</td>\n",
       "      <td>0.0</td>\n",
       "      <td>0.0</td>\n",
       "      <td>0.0</td>\n",
       "      <td>0.0</td>\n",
       "      <td>0.0</td>\n",
       "      <td>0.0</td>\n",
       "    </tr>\n",
       "    <tr>\n",
       "      <th>3</th>\n",
       "      <td>0.0</td>\n",
       "      <td>0.0</td>\n",
       "      <td>0.0</td>\n",
       "      <td>0.0</td>\n",
       "      <td>0.0</td>\n",
       "      <td>0.0</td>\n",
       "      <td>0.0</td>\n",
       "      <td>0.0</td>\n",
       "      <td>0.0</td>\n",
       "      <td>0.0</td>\n",
       "      <td>...</td>\n",
       "      <td>0.0</td>\n",
       "      <td>0.0</td>\n",
       "      <td>0.0</td>\n",
       "      <td>0.0</td>\n",
       "      <td>0.0</td>\n",
       "      <td>0.0</td>\n",
       "      <td>0.0</td>\n",
       "      <td>0.0</td>\n",
       "      <td>0.0</td>\n",
       "      <td>0.0</td>\n",
       "    </tr>\n",
       "    <tr>\n",
       "      <th>4</th>\n",
       "      <td>0.0</td>\n",
       "      <td>0.0</td>\n",
       "      <td>0.0</td>\n",
       "      <td>0.0</td>\n",
       "      <td>0.0</td>\n",
       "      <td>0.0</td>\n",
       "      <td>0.0</td>\n",
       "      <td>0.0</td>\n",
       "      <td>0.0</td>\n",
       "      <td>0.0</td>\n",
       "      <td>...</td>\n",
       "      <td>0.0</td>\n",
       "      <td>0.0</td>\n",
       "      <td>0.0</td>\n",
       "      <td>0.0</td>\n",
       "      <td>0.0</td>\n",
       "      <td>0.0</td>\n",
       "      <td>0.0</td>\n",
       "      <td>0.0</td>\n",
       "      <td>0.0</td>\n",
       "      <td>0.0</td>\n",
       "    </tr>\n",
       "  </tbody>\n",
       "</table>\n",
       "<p>5 rows × 12504 columns</p>\n",
       "</div>"
      ],
      "text/plain": [
       "    aa  aaaaaaallll  aaaaaand  aaarrrgghhh  aace  aal  aan  aannnnd  aar  \\\n",
       "0  0.0          0.0       0.0          0.0   0.0  0.0  0.0      0.0  0.0   \n",
       "1  0.0          0.0       0.0          0.0   0.0  0.0  0.0      0.0  0.0   \n",
       "2  0.0          0.0       0.0          0.0   0.0  0.0  0.0      0.0  0.0   \n",
       "3  0.0          0.0       0.0          0.0   0.0  0.0  0.0      0.0  0.0   \n",
       "4  0.0          0.0       0.0          0.0   0.0  0.0  0.0      0.0  0.0   \n",
       "\n",
       "   aaronthefm  ...  zojadelin  zombie  zone  zoom  zouma  zourryart  zrnf  \\\n",
       "0         0.0  ...        0.0     0.0   0.0   0.0    0.0        0.0   0.0   \n",
       "1         0.0  ...        0.0     0.0   0.0   0.0    0.0        0.0   0.0   \n",
       "2         0.0  ...        0.0     0.0   0.0   0.0    0.0        0.0   0.0   \n",
       "3         0.0  ...        0.0     0.0   0.0   0.0    0.0        0.0   0.0   \n",
       "4         0.0  ...        0.0     0.0   0.0   0.0    0.0        0.0   0.0   \n",
       "\n",
       "   zumiez  zurich  zxathetis  \n",
       "0     0.0     0.0        0.0  \n",
       "1     0.0     0.0        0.0  \n",
       "2     0.0     0.0        0.0  \n",
       "3     0.0     0.0        0.0  \n",
       "4     0.0     0.0        0.0  \n",
       "\n",
       "[5 rows x 12504 columns]"
      ]
     },
     "execution_count": 11,
     "metadata": {},
     "output_type": "execute_result"
    }
   ],
   "source": [
    "X_train_tfidf.head()"
   ]
  },
  {
   "cell_type": "code",
   "execution_count": 42,
   "metadata": {
    "Collapsed": "false"
   },
   "outputs": [
    {
     "data": {
      "text/html": [
       "<div>\n",
       "<style scoped>\n",
       "    .dataframe tbody tr th:only-of-type {\n",
       "        vertical-align: middle;\n",
       "    }\n",
       "\n",
       "    .dataframe tbody tr th {\n",
       "        vertical-align: top;\n",
       "    }\n",
       "\n",
       "    .dataframe thead th {\n",
       "        text-align: right;\n",
       "    }\n",
       "</style>\n",
       "<table border=\"1\" class=\"dataframe\">\n",
       "  <thead>\n",
       "    <tr style=\"text-align: right;\">\n",
       "      <th></th>\n",
       "      <th>aa</th>\n",
       "      <th>aaaa</th>\n",
       "      <th>aaaaaaallll</th>\n",
       "      <th>aaaaaand</th>\n",
       "      <th>aaarrrgghhh</th>\n",
       "      <th>aace</th>\n",
       "      <th>aal</th>\n",
       "      <th>aamir</th>\n",
       "      <th>aan</th>\n",
       "      <th>aannnnd</th>\n",
       "      <th>...</th>\n",
       "      <th>zoom</th>\n",
       "      <th>zotar</th>\n",
       "      <th>zouma</th>\n",
       "      <th>zourryart</th>\n",
       "      <th>zrnf</th>\n",
       "      <th>zumiez</th>\n",
       "      <th>zurich</th>\n",
       "      <th>zxathetis</th>\n",
       "      <th>zzzz</th>\n",
       "      <th>target_y</th>\n",
       "    </tr>\n",
       "  </thead>\n",
       "  <tbody>\n",
       "    <tr>\n",
       "      <th>0</th>\n",
       "      <td>0</td>\n",
       "      <td>0</td>\n",
       "      <td>0</td>\n",
       "      <td>0</td>\n",
       "      <td>0</td>\n",
       "      <td>0</td>\n",
       "      <td>0</td>\n",
       "      <td>0</td>\n",
       "      <td>0</td>\n",
       "      <td>0</td>\n",
       "      <td>...</td>\n",
       "      <td>0</td>\n",
       "      <td>0</td>\n",
       "      <td>0</td>\n",
       "      <td>0</td>\n",
       "      <td>0</td>\n",
       "      <td>0</td>\n",
       "      <td>0</td>\n",
       "      <td>0</td>\n",
       "      <td>0</td>\n",
       "      <td>1</td>\n",
       "    </tr>\n",
       "    <tr>\n",
       "      <th>1</th>\n",
       "      <td>0</td>\n",
       "      <td>0</td>\n",
       "      <td>0</td>\n",
       "      <td>0</td>\n",
       "      <td>0</td>\n",
       "      <td>0</td>\n",
       "      <td>0</td>\n",
       "      <td>0</td>\n",
       "      <td>0</td>\n",
       "      <td>0</td>\n",
       "      <td>...</td>\n",
       "      <td>0</td>\n",
       "      <td>0</td>\n",
       "      <td>0</td>\n",
       "      <td>0</td>\n",
       "      <td>0</td>\n",
       "      <td>0</td>\n",
       "      <td>0</td>\n",
       "      <td>0</td>\n",
       "      <td>0</td>\n",
       "      <td>1</td>\n",
       "    </tr>\n",
       "    <tr>\n",
       "      <th>2</th>\n",
       "      <td>0</td>\n",
       "      <td>0</td>\n",
       "      <td>0</td>\n",
       "      <td>0</td>\n",
       "      <td>0</td>\n",
       "      <td>0</td>\n",
       "      <td>0</td>\n",
       "      <td>0</td>\n",
       "      <td>0</td>\n",
       "      <td>0</td>\n",
       "      <td>...</td>\n",
       "      <td>0</td>\n",
       "      <td>0</td>\n",
       "      <td>0</td>\n",
       "      <td>0</td>\n",
       "      <td>0</td>\n",
       "      <td>0</td>\n",
       "      <td>0</td>\n",
       "      <td>0</td>\n",
       "      <td>0</td>\n",
       "      <td>1</td>\n",
       "    </tr>\n",
       "    <tr>\n",
       "      <th>3</th>\n",
       "      <td>0</td>\n",
       "      <td>0</td>\n",
       "      <td>0</td>\n",
       "      <td>0</td>\n",
       "      <td>0</td>\n",
       "      <td>0</td>\n",
       "      <td>0</td>\n",
       "      <td>0</td>\n",
       "      <td>0</td>\n",
       "      <td>0</td>\n",
       "      <td>...</td>\n",
       "      <td>0</td>\n",
       "      <td>0</td>\n",
       "      <td>0</td>\n",
       "      <td>0</td>\n",
       "      <td>0</td>\n",
       "      <td>0</td>\n",
       "      <td>0</td>\n",
       "      <td>0</td>\n",
       "      <td>0</td>\n",
       "      <td>1</td>\n",
       "    </tr>\n",
       "    <tr>\n",
       "      <th>4</th>\n",
       "      <td>0</td>\n",
       "      <td>0</td>\n",
       "      <td>0</td>\n",
       "      <td>0</td>\n",
       "      <td>0</td>\n",
       "      <td>0</td>\n",
       "      <td>0</td>\n",
       "      <td>0</td>\n",
       "      <td>0</td>\n",
       "      <td>0</td>\n",
       "      <td>...</td>\n",
       "      <td>0</td>\n",
       "      <td>0</td>\n",
       "      <td>0</td>\n",
       "      <td>0</td>\n",
       "      <td>0</td>\n",
       "      <td>0</td>\n",
       "      <td>0</td>\n",
       "      <td>0</td>\n",
       "      <td>0</td>\n",
       "      <td>1</td>\n",
       "    </tr>\n",
       "  </tbody>\n",
       "</table>\n",
       "<p>5 rows × 14792 columns</p>\n",
       "</div>"
      ],
      "text/plain": [
       "   aa  aaaa  aaaaaaallll  aaaaaand  aaarrrgghhh  aace  aal  aamir  aan  \\\n",
       "0   0     0            0         0            0     0    0      0    0   \n",
       "1   0     0            0         0            0     0    0      0    0   \n",
       "2   0     0            0         0            0     0    0      0    0   \n",
       "3   0     0            0         0            0     0    0      0    0   \n",
       "4   0     0            0         0            0     0    0      0    0   \n",
       "\n",
       "   aannnnd  ...  zoom  zotar  zouma  zourryart  zrnf  zumiez  zurich  \\\n",
       "0        0  ...     0      0      0          0     0       0       0   \n",
       "1        0  ...     0      0      0          0     0       0       0   \n",
       "2        0  ...     0      0      0          0     0       0       0   \n",
       "3        0  ...     0      0      0          0     0       0       0   \n",
       "4        0  ...     0      0      0          0     0       0       0   \n",
       "\n",
       "   zxathetis  zzzz  target_y  \n",
       "0          0     0         1  \n",
       "1          0     0         1  \n",
       "2          0     0         1  \n",
       "3          0     0         1  \n",
       "4          0     0         1  \n",
       "\n",
       "[5 rows x 14792 columns]"
      ]
     },
     "execution_count": 42,
     "metadata": {},
     "output_type": "execute_result"
    }
   ],
   "source": [
    "tfidf_vis= pd.merge(X_tfidf,df['target'], left_index= True, right_index= True)\n",
    "cvec_vis = pd.merge(X_cvec, df['target'], left_index= True, right_index = True)\n",
    "cvec_vis.head()"
   ]
  },
  {
   "cell_type": "code",
   "execution_count": 43,
   "metadata": {
    "Collapsed": "false"
   },
   "outputs": [
    {
     "data": {
      "image/png": "[encoded data removed]",
      "text/plain": [
       "<Figure size 720x1080 with 1 Axes>"
      ]
     },
     "metadata": {
      "needs_background": "light"
     },
     "output_type": "display_data"
    }
   ],
   "source": [
    "tfidf_vis.loc[tfidf_vis['target_y']==1].drop(columns = 'target_y').mean().sort_values(ascending= True).tail(50).plot(kind = 'barh', figsize = (10,15));\n",
    "plt.yticks(fontsize = 10);\n",
    "plt.xticks(fontsize = 10);\n",
    "plt.title('Top Mean tf-idf of Words in Disaster Tweets', fontsize = 15);"
   ]
  },
  {
   "cell_type": "code",
   "execution_count": 44,
   "metadata": {
    "Collapsed": "false"
   },
   "outputs": [
    {
     "data": {
      "image/png": "[encoded data removed]",
      "text/plain": [
       "<Figure size 720x1080 with 1 Axes>"
      ]
     },
     "metadata": {
      "needs_background": "light"
     },
     "output_type": "display_data"
    }
   ],
   "source": [
    "tfidf_vis.loc[tfidf_vis['target_y']==0].drop(columns = 'target_y').mean().sort_values(ascending= True).tail(50).plot(kind = 'barh', figsize = (10,15));\n",
    "plt.yticks(fontsize = 10);\n",
    "plt.xticks(fontsize = 10);\n",
    "plt.title('Top Mean tf-idf of Words in Non-Disaster Tweets', fontsize = 15);"
   ]
  },
  {
   "cell_type": "code",
   "execution_count": 45,
   "metadata": {
    "Collapsed": "false"
   },
   "outputs": [
    {
     "data": {
      "image/png": "[encoded data removed]",
      "text/plain": [
       "<Figure size 720x1080 with 1 Axes>"
      ]
     },
     "metadata": {
      "needs_background": "light"
     },
     "output_type": "display_data"
    }
   ],
   "source": [
    "cvec_vis.loc[cvec_vis['target_y']==1].drop(columns = 'target_y').sum().sort_values(ascending= True).tail(50).plot(kind = 'barh', figsize = (10,15));\n",
    "plt.yticks(fontsize = 10);\n",
    "plt.xticks(fontsize = 10);\n",
    "plt.title('Top 50 Most Frequent Words in Disaster Tweets', fontsize = 15);"
   ]
  },
  {
   "cell_type": "code",
   "execution_count": 46,
   "metadata": {
    "Collapsed": "false"
   },
   "outputs": [
    {
     "data": {
      "image/png": "[encoded data removed]",
      "text/plain": [
       "<Figure size 720x1080 with 1 Axes>"
      ]
     },
     "metadata": {
      "needs_background": "light"
     },
     "output_type": "display_data"
    }
   ],
   "source": [
    "cvec_vis.loc[cvec_vis['target_y']==0].drop(columns = 'target_y').sum().sort_values(ascending= True).tail(50).plot(kind = 'barh', figsize = (10,15));\n",
    "plt.yticks(fontsize = 10);\n",
    "plt.xticks(fontsize = 10);\n",
    "plt.title('Top 50 Most Frequent Words in Non-Disaster Tweets', fontsize = 15);"
   ]
  },
  {
   "cell_type": "markdown",
   "metadata": {
    "Collapsed": "false"
   },
   "source": [
    "### Modeling and Validation"
   ]
  },
  {
   "cell_type": "code",
   "execution_count": 18,
   "metadata": {
    "Collapsed": "false"
   },
   "outputs": [
    {
     "data": {
      "text/plain": [
       "0.57"
      ]
     },
     "execution_count": 18,
     "metadata": {},
     "output_type": "execute_result"
    }
   ],
   "source": [
    "# Accuracy for baseline model\n",
    "baseline_acc = round(df['target'].value_counts(normalize = True)[0],2)\n",
    "baseline_acc"
   ]
  },
  {
   "cell_type": "code",
   "execution_count": 19,
   "metadata": {
    "Collapsed": "false"
   },
   "outputs": [
    {
     "name": "stdout",
     "output_type": "stream",
     "text": [
      "baseline f measure: 0.601\n"
     ]
    }
   ],
   "source": [
    "# Baseline predictions for model that always predicts the positive class\n",
    "baseline_preds = y.map({0:1,1:1}) \n",
    "\n",
    "# f-measure for baseline model\n",
    "baseline_f1 = round(f1_score(y, baseline_preds),3)\n",
    "print(f'baseline f measure: {baseline_f1}')"
   ]
  },
  {
   "cell_type": "code",
   "execution_count": 20,
   "metadata": {
    "Collapsed": "false"
   },
   "outputs": [
    {
     "data": {
      "text/plain": [
       "1    7613\n",
       "Name: target, dtype: int64"
      ]
     },
     "execution_count": 20,
     "metadata": {},
     "output_type": "execute_result"
    }
   ],
   "source": [
    "baseline_preds.value_counts(dropna = False)"
   ]
  },
  {
   "cell_type": "code",
   "execution_count": 21,
   "metadata": {
    "Collapsed": "false"
   },
   "outputs": [],
   "source": [
    "# Instantiating Pipelines for potential models\n",
    "pipe_rf_cvec = Pipeline([('cvec',CountVectorizer()),                         \n",
    "                         ('rf', RandomForestClassifier(n_estimators= 100))])\n",
    "pipe_rf_tfidf = Pipeline([('tfidf', TfidfVectorizer()),                          \n",
    "                          ('rf', RandomForestClassifier(n_estimators=100))])\n",
    "pipe_ada_cvec = Pipeline([('cvec', CountVectorizer()),                          \n",
    "                          ('ada', AdaBoostClassifier(n_estimators=100))])\n",
    "pipe_ada_tfidf = Pipeline([('tfidf', TfidfVectorizer()),                           \n",
    "                           ('ada', AdaBoostClassifier(n_estimators = 100))])\n",
    "pipe_svc_cvec = Pipeline([('cvec', CountVectorizer()),\n",
    "                           ('svc', SVC(gamma = 'scale',\n",
    "                                       random_state = 42))])\n",
    "pipe_svc_tfidf = Pipeline([('tfidf', TfidfVectorizer()),                    \n",
    "                           ('svc', SVC(gamma = 'scale',\n",
    "                                       random_state = 42))])\n",
    "# Instantiating vectorizer parameters\n",
    "cvec_params = {'cvec__stop_words':[None,'english'],\n",
    "               'cvec__ngram_range':[(1,1),(1,2),(1,3)]}\n",
    "tfidf_params = {'tfidf__stop_words': [None, 'english'],\n",
    "                'tfidf__ngram_range': [(1,1),(1,2),(1,3)]}\n",
    "\n",
    "# Random Forest GridSearches\n",
    "grid_rf_cvec = GridSearchCV(pipe_rf_cvec, cvec_params,cv = 5)\n",
    "grid_rf_tfidf = GridSearchCV(pipe_rf_tfidf, tfidf_params, cv = 5)\n",
    "\n",
    "\n",
    "# Adaboost GridSearches\n",
    "grid_ada_cvec = GridSearchCV(pipe_ada_cvec, cvec_params, cv = 5)\n",
    "grid_ada_tfidf = GridSearchCV(pipe_ada_tfidf, tfidf_params, cv = 5)\n",
    "\n",
    "# SVC GridSearch\n",
    "grid_svc_cvec = GridSearchCV(pipe_svc_cvec,cvec_params, cv = 5)\n",
    "grid_svc_tfidf = GridSearchCV(pipe_svc_tfidf, tfidf_params, cv = 5)"
   ]
  },
  {
   "cell_type": "code",
   "execution_count": 22,
   "metadata": {
    "Collapsed": "false"
   },
   "outputs": [
    {
     "name": "stdout",
     "output_type": "stream",
     "text": [
      "CountVectorized Random Forest\n",
      "best params: {'cvec__ngram_range': (1, 1), 'cvec__stop_words': None}\n",
      "best estimator train accuracy: 0.9887896304081275\n",
      "best estimator test accuracy: 0.8019957983193278\n",
      "sensitivity: 0.6772616136919315, specificity: 0.8959484346224678\n",
      "f1_score: 0.7461279461279461\n",
      "\n",
      "TFIDF Random Forest\n",
      "best params: {'tfidf__ngram_range': (1, 2), 'tfidf__stop_words': None}\n",
      "best estimator train accuracy: 0.9889647924330005\n",
      "best estimator test accuracy: 0.7962184873949579\n",
      "sensitivity: 0.6711491442542787, specificity: 0.8904235727440147\n",
      "f1_score: 0.7388963660834456\n",
      "\n",
      "CountVectorized Adaboost\n",
      "best params: {'cvec__ngram_range': (1, 2), 'cvec__stop_words': 'english'}\n",
      "best estimator train accuracy: 0.7880539499036608\n",
      "best estimator test accuracy: 0.7725840336134454\n",
      "sensitivity: 0.6625916870415648, specificity: 0.8554327808471455\n",
      "f1_score: 0.7145682267633487\n",
      "\n",
      "TFIDF Adaboost\n",
      "best params: {'tfidf__ngram_range': (1, 3), 'tfidf__stop_words': None}\n",
      "best estimator train accuracy: 0.8013662637940094\n",
      "best estimator test accuracy: 0.7757352941176471\n",
      "sensitivity: 0.6919315403422983, specificity: 0.8388581952117864\n",
      "f1_score: 0.7261064785118666\n",
      "\n",
      "CountVectorized SVC\n",
      "best params: {'cvec__ngram_range': (1, 1), 'cvec__stop_words': None}\n",
      "best estimator train accuracy: 0.9483272026624627\n",
      "best estimator test accuracy: 0.8046218487394958\n",
      "sensitivity: 0.6491442542787286, specificity: 0.921731123388582\n",
      "f1_score: 0.7405857740585774\n",
      "\n",
      "TFIDF SVC\n",
      "best params: {'tfidf__ngram_range': (1, 1), 'tfidf__stop_words': None}\n",
      "best estimator train accuracy: 0.9705727798213347\n",
      "best estimator test accuracy: 0.8130252100840336\n",
      "sensitivity: 0.6748166259168704, specificity: 0.9171270718232044\n",
      "f1_score: 0.7561643835616438\n",
      "\n",
      "baseline accuracy:0.57\n",
      "baseline f measure: 0.601\n"
     ]
    }
   ],
   "source": [
    "models = [grid_rf_cvec, grid_rf_tfidf, grid_ada_cvec, \n",
    "          grid_ada_tfidf, grid_svc_cvec, grid_svc_tfidf]\n",
    "model_names = ['CountVectorized Random Forest','TFIDF Random Forest',\n",
    "               'CountVectorized Adaboost','TFIDF Adaboost', 'CountVectorized SVC', 'TFIDF SVC']\n",
    "predictions = ['cvec_rf_pred', 'tfidf_rf_pred', 'cvec_adaboost_pred', 'tfidf_adaboost_pred',\n",
    "               'cvec_svc_pred', 'tfidf_svc_pred']\n",
    "\n",
    "# loops through each gridsearch and prints out accuracy scores and parameters for the best estimator\n",
    "for (model, model_name, pred) in zip(models, model_names, predictions):\n",
    "    model.fit(X_train,y_train)\n",
    "    pred = model.best_estimator_.predict(X_test)\n",
    "\n",
    "    tn,fp,fn,tp = confusion_matrix(y_test, pred).ravel()\n",
    "    f_measure = f1_score(y_test, pred)\n",
    "    sens = tp/(tp+fn)\n",
    "    spec = tn/(tn+fp)\n",
    "    acc = (tp+tn)/(tn+tp+fp+fn)\n",
    "    false_pos_rate = fn/(tp+fn)\n",
    "    print(f'{model_name}')\n",
    "    print(f'best params: {model.best_params_}')\n",
    "    print(f'best estimator train accuracy: {model.best_estimator_.score(X_train,y_train)}')\n",
    "    print(f'best estimator test accuracy: {model.best_estimator_.score(X_test,y_test)}')\n",
    "    \n",
    "    print(f'sensitivity: {sens}, specificity: {spec}')\n",
    "   \n",
    "    print(f'f1_score: {f_measure}')\n",
    "    print()\n",
    "    \n",
    "print(f'baseline accuracy:{baseline_acc}')\n",
    "print(f'baseline f measure: {baseline_f1}')"
   ]
  },
  {
   "cell_type": "code",
   "execution_count": 23,
   "metadata": {
    "Collapsed": "false"
   },
   "outputs": [
    {
     "data": {
      "text/plain": [
       "0.8130252100840336"
      ]
     },
     "execution_count": 23,
     "metadata": {},
     "output_type": "execute_result"
    }
   ],
   "source": [
    "grid_svc_tfidf.best_estimator_.score(X_test,y_test)\n"
   ]
  },
  {
   "cell_type": "code",
   "execution_count": 24,
   "metadata": {
    "Collapsed": "false"
   },
   "outputs": [
    {
     "data": {
      "text/plain": [
       "0.8130252100840336"
      ]
     },
     "execution_count": 24,
     "metadata": {},
     "output_type": "execute_result"
    }
   ],
   "source": [
    "pred = grid_svc_tfidf.best_estimator_.predict(X_test)\n",
    "tn,fp,fn,tp = confusion_matrix(y_test, pred).ravel()\n",
    "acc = (tp+tn)/(tn+tp+fp+fn)\n",
    "acc"
   ]
  },
  {
   "cell_type": "code",
   "execution_count": 36,
   "metadata": {
    "Collapsed": "false"
   },
   "outputs": [
    {
     "data": {
      "text/plain": [
       "NaN            61\n",
       "fatalities     45\n",
       "deluge         42\n",
       "armageddon     42\n",
       "sinking        41\n",
       "harm           41\n",
       "body%20bags    41\n",
       "damage         41\n",
       "collided       40\n",
       "windstorm      40\n",
       "outbreak       40\n",
       "twister        40\n",
       "evacuate       40\n",
       "siren          40\n",
       "fear           40\n",
       "flames         39\n",
       "earthquake     39\n",
       "weapon         39\n",
       "hellfire       39\n",
       "sinkhole       39\n",
       "Name: keyword, dtype: int64"
      ]
     },
     "execution_count": 36,
     "metadata": {},
     "output_type": "execute_result"
    }
   ],
   "source": [
    "df['keyword'].value_counts(dropna = False).head(20)"
   ]
  },
  {
   "cell_type": "code",
   "execution_count": 35,
   "metadata": {
    "Collapsed": "false"
   },
   "outputs": [
    {
     "name": "stdout",
     "output_type": "stream",
     "text": [
      "<class 'pandas.core.frame.DataFrame'>\n",
      "RangeIndex: 7613 entries, 0 to 7612\n",
      "Data columns (total 5 columns):\n",
      " #   Column    Non-Null Count  Dtype \n",
      "---  ------    --------------  ----- \n",
      " 0   id        7613 non-null   int64 \n",
      " 1   keyword   7552 non-null   object\n",
      " 2   location  5080 non-null   object\n",
      " 3   text      7613 non-null   object\n",
      " 4   target    7613 non-null   int64 \n",
      "dtypes: int64(2), object(3)\n",
      "memory usage: 297.5+ KB\n"
     ]
    }
   ],
   "source": [
    "df.info()"
   ]
  },
  {
   "cell_type": "code",
   "execution_count": 25,
   "metadata": {
    "Collapsed": "false"
   },
   "outputs": [],
   "source": [
    "# predictions = ['cvec_rf_pred', 'tfidf_rf_pred', 'cvec_adaboost_pred', 'tfidf_adaboost_pred', 'cvec_svc_pred', 'tfidf_svc_pred']\n",
    "# for model, pred, model_name in zip(models, predictions, model_names):\n",
    "    \n",
    "#     pred = model.best_estimator_.predict(X_test)\n",
    "\n",
    "#     tn,fp,fn,tp = confusion_matrix(y_test, pred).ravel()\n",
    "#     f_measure = f1_score(y_test, pred)\n",
    "#     sens = tp/(tp+fn)\n",
    "#     spec = tn/(tn+fp)\n",
    "#     acc = (tp+tn)/(tn+tp+fp+fn)\n",
    "#     false_pos_rate = fn/(tp+fn)\n",
    "#     print(f'{model_name}')\n",
    "#     print(f'false pos:{fp}, false neg:{fn}')\n",
    "#     print(f'true pos: {tp}, true neg: {tn}')\n",
    "#     print(f'sensitivity: {sens}, specificity: {spec}')\n",
    "#     print(f'false_neg_rate: {false_pos_rate}')\n",
    "#     print(f'f1_score: {f_measure}')\n",
    "#     print('')\n",
    "# print(f'baseline: {baseline}')"
   ]
  }
 ],
 "metadata": {
  "kernelspec": {
   "display_name": "Python 3",
   "language": "python",
   "name": "python3"
  },
  "language_info": {
   "codemirror_mode": {
    "name": "ipython",
    "version": 3
   },
   "file_extension": ".py",
   "mimetype": "text/x-python",
   "name": "python",
   "nbconvert_exporter": "python",
   "pygments_lexer": "ipython3",
   "version": "3.7.4"
  }
 },
 "nbformat": 4,
 "nbformat_minor": 4
}
