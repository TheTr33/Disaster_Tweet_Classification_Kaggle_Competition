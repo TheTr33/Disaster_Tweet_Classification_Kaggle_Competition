{
 "cells": [
  {
   "cell_type": "markdown",
   "metadata": {
    "Collapsed": "false"
   },
   "source": [
    "## Using Twitter for Disaster Alerts "
   ]
  },
  {
   "cell_type": "markdown",
   "metadata": {
    "Collapsed": "false"
   },
   "source": [
    "## Problem Statement\n",
    "Smartphones are owned by almost anyone these days which has in turn caused an explosive rise in use of social media over the past few decades. People are constantly communicating their opinions on current events, personal life occurences, internet memes, and observations in the real world. This constant stream of information while diversionary and insightful to human minds are often most peoples primary source of important alerts in the happenings of the world. Twitter for example, is a vast and constantly updating source of information and method of communication that has been avoided as a source of information due to scraping and readability issues based off the way that people typically type. Howevere, with advances in NLP processing and modelling, social media can be used to read tweets and even understand whether a person is tweeting about normal non disaster related events, or emergencies that can be used to generate and put out alerts. This project will show that social media is a valid source of information even with simple modelling techniques. "
   ]
  },
  {
   "cell_type": "markdown",
   "metadata": {
    "Collapsed": "false"
   },
   "source": [
    "**Table of Contents**\n",
    "1. [Imports](#Imports)\n",
    "2. [Data Used](#Data-Used)\n",
    "3. [Tweet Cleaning and Preprocessing](#Tweet-Cleaning-and-Preprocessing)\n",
    "4. [EDA](#EDA)\n",
    "5. [Modeling and Validation](#Modeling-and-Validation)\n",
    "    - [Baseline Models](#Baseline-Models)\n",
    "    - [Modelling and Gridsearch](#Modelling-Gridsearch)\n",
    "    - [Gridsearch and Validation Function](#Gridsearch-and-Validation-Function)\n",
    "6. [Conclusions and Next Steps](#Conclusions-and-Next-Steps)"
   ]
  },
  {
   "cell_type": "markdown",
   "metadata": {
    "Collapsed": "false"
   },
   "source": [
    "### Imports"
   ]
  },
  {
   "cell_type": "code",
   "execution_count": 1,
   "metadata": {
    "Collapsed": "false",
    "ExecuteTime": {
     "end_time": "2020-02-27T22:25:15.737413Z",
     "start_time": "2020-02-27T22:25:15.732398Z"
    }
   },
   "outputs": [],
   "source": [
    "# general imports\n",
    "import pandas as pd\n",
    "import numpy as np\n",
    "import matplotlib.pyplot as plt\n",
    "import seaborn as sns\n",
    "%matplotlib inline\n",
    "\n",
    "# imports for tweet cleaning\n",
    "import regex as re\n",
    "from nltk.stem import WordNetLemmatizer\n",
    "from nltk.stem.porter import PorterStemmer\n",
    "from nltk.corpus import stopwords\n",
    "\n",
    "# imports for modeling\n",
    "from sklearn.pipeline import Pipeline\n",
    "from sklearn.model_selection import GridSearchCV, train_test_split\n",
    "from sklearn.ensemble import AdaBoostClassifier, RandomForestClassifier\n",
    "from sklearn.feature_extraction.text import CountVectorizer,TfidfVectorizer\n",
    "from sklearn.svm import SVC\n",
    "from sklearn.metrics import confusion_matrix, f1_score\n",
    "import warnings"
   ]
  },
  {
   "cell_type": "markdown",
   "metadata": {
    "Collapsed": "false"
   },
   "source": [
    "##### Data Used"
   ]
  },
  {
   "cell_type": "markdown",
   "metadata": {
    "Collapsed": "false"
   },
   "source": [
    "Data was taken from the [Real or Not? NLP with Disaster Tweets](https://www.kaggle.com/c/nlp-getting-started/data) kaggle competition where 10,000 tweets were hand classified between tweets pertinent to disasters and tweets not disaster related. The `train.csv` file will be used to train the models in this notebook and validate the final model using a train/test split."
   ]
  },
  {
   "cell_type": "code",
   "execution_count": 2,
   "metadata": {
    "Collapsed": "false",
    "ExecuteTime": {
     "end_time": "2020-02-27T18:36:00.353834Z",
     "start_time": "2020-02-27T18:36:00.306671Z"
    }
   },
   "outputs": [],
   "source": [
    "df = pd.read_csv('./data/train.csv')"
   ]
  },
  {
   "cell_type": "code",
   "execution_count": 3,
   "metadata": {
    "Collapsed": "false"
   },
   "outputs": [
    {
     "data": {
      "text/plain": [
       "(7613, 5)"
      ]
     },
     "execution_count": 3,
     "metadata": {},
     "output_type": "execute_result"
    }
   ],
   "source": [
    "df.shape"
   ]
  },
  {
   "cell_type": "code",
   "execution_count": 4,
   "metadata": {
    "Collapsed": "false",
    "ExecuteTime": {
     "end_time": "2020-02-27T18:36:27.912759Z",
     "start_time": "2020-02-27T18:36:27.898219Z"
    }
   },
   "outputs": [
    {
     "data": {
      "text/html": [
       "<div>\n",
       "<style scoped>\n",
       "    .dataframe tbody tr th:only-of-type {\n",
       "        vertical-align: middle;\n",
       "    }\n",
       "\n",
       "    .dataframe tbody tr th {\n",
       "        vertical-align: top;\n",
       "    }\n",
       "\n",
       "    .dataframe thead th {\n",
       "        text-align: right;\n",
       "    }\n",
       "</style>\n",
       "<table border=\"1\" class=\"dataframe\">\n",
       "  <thead>\n",
       "    <tr style=\"text-align: right;\">\n",
       "      <th></th>\n",
       "      <th>id</th>\n",
       "      <th>keyword</th>\n",
       "      <th>location</th>\n",
       "      <th>text</th>\n",
       "      <th>target</th>\n",
       "    </tr>\n",
       "  </thead>\n",
       "  <tbody>\n",
       "    <tr>\n",
       "      <th>0</th>\n",
       "      <td>1</td>\n",
       "      <td>NaN</td>\n",
       "      <td>NaN</td>\n",
       "      <td>Our Deeds are the Reason of this #earthquake M...</td>\n",
       "      <td>1</td>\n",
       "    </tr>\n",
       "    <tr>\n",
       "      <th>1</th>\n",
       "      <td>4</td>\n",
       "      <td>NaN</td>\n",
       "      <td>NaN</td>\n",
       "      <td>Forest fire near La Ronge Sask. Canada</td>\n",
       "      <td>1</td>\n",
       "    </tr>\n",
       "    <tr>\n",
       "      <th>2</th>\n",
       "      <td>5</td>\n",
       "      <td>NaN</td>\n",
       "      <td>NaN</td>\n",
       "      <td>All residents asked to 'shelter in place' are ...</td>\n",
       "      <td>1</td>\n",
       "    </tr>\n",
       "    <tr>\n",
       "      <th>3</th>\n",
       "      <td>6</td>\n",
       "      <td>NaN</td>\n",
       "      <td>NaN</td>\n",
       "      <td>13,000 people receive #wildfires evacuation or...</td>\n",
       "      <td>1</td>\n",
       "    </tr>\n",
       "    <tr>\n",
       "      <th>4</th>\n",
       "      <td>7</td>\n",
       "      <td>NaN</td>\n",
       "      <td>NaN</td>\n",
       "      <td>Just got sent this photo from Ruby #Alaska as ...</td>\n",
       "      <td>1</td>\n",
       "    </tr>\n",
       "  </tbody>\n",
       "</table>\n",
       "</div>"
      ],
      "text/plain": [
       "   id keyword location                                               text  \\\n",
       "0   1     NaN      NaN  Our Deeds are the Reason of this #earthquake M...   \n",
       "1   4     NaN      NaN             Forest fire near La Ronge Sask. Canada   \n",
       "2   5     NaN      NaN  All residents asked to 'shelter in place' are ...   \n",
       "3   6     NaN      NaN  13,000 people receive #wildfires evacuation or...   \n",
       "4   7     NaN      NaN  Just got sent this photo from Ruby #Alaska as ...   \n",
       "\n",
       "   target  \n",
       "0       1  \n",
       "1       1  \n",
       "2       1  \n",
       "3       1  \n",
       "4       1  "
      ]
     },
     "execution_count": 4,
     "metadata": {},
     "output_type": "execute_result"
    }
   ],
   "source": [
    "df.head()"
   ]
  },
  {
   "cell_type": "markdown",
   "metadata": {
    "Collapsed": "false"
   },
   "source": [
    "### Tweet Cleaning, and Preprocessing"
   ]
  },
  {
   "cell_type": "markdown",
   "metadata": {
    "Collapsed": "false"
   },
   "source": [
    "First the classifer variable and the variable representing the corpus of tweets are defined. "
   ]
  },
  {
   "cell_type": "code",
   "execution_count": 5,
   "metadata": {
    "Collapsed": "false",
    "ExecuteTime": {
     "end_time": "2020-02-27T22:25:08.249762Z",
     "start_time": "2020-02-27T22:25:08.245774Z"
    }
   },
   "outputs": [],
   "source": [
    "# Set up classifier output variable\n",
    "y = df['target']\n",
    "\n",
    "# Setting up corpus by first removing all website links from tweets\n",
    "X = df['text'].str.replace('http\\S+|www.\\S+', ' ', case = False)"
   ]
  },
  {
   "cell_type": "markdown",
   "metadata": {
    "Collapsed": "false"
   },
   "source": [
    "Within the set up of the corpus, `X` variable, I have already cleaned the tweets of any sort of text that resembles a website link. This will leave the tweets with hashtags, numbers, and mixed cases but the text will be readable by human eyes so as to be able to read through tweets and verify the classification indicated in the `target` column per tweet.<br>  \n",
    "\n",
    "The following function will clean the tweets further by removing non-letters, stopwords, and lowercasing all letters in the tweet. The function will also give me the option to lemmatize or stem the remaining words in the tweets. "
   ]
  },
  {
   "cell_type": "code",
   "execution_count": 6,
   "metadata": {
    "Collapsed": "false"
   },
   "outputs": [],
   "source": [
    "def tweet_cleaning(raw, lemmat = False, stem = False):\n",
    "    # 1. Remove non-letters.\n",
    "    letters_only = re.sub('[^a-zA-Z]', ' ', raw)\n",
    "    \n",
    "    # 2. Convert to lower case, split into individual words.\n",
    "    words = letters_only.lower().split()\n",
    "    \n",
    "    # 3. Join all the stopwords as a string with \" \", remove \"'\" from the stopwords and split it as a list.\n",
    "    stops = \" \".join(stopwords.words('english')).replace(\"'\", \"\").split()\n",
    "    \n",
    "    # 4. Remove stopwords.\n",
    "    meaningful_words = [w for w in words if not w in stops]\n",
    "    \n",
    "    # lemmatizing corpus\n",
    "    if lemmat == True and stem == False:\n",
    "        lemmatizer = WordNetLemmatizer()\n",
    "        lemmatizing = [lemmatizer.lemmatize(word) for word in meaningful_words]\n",
    "        return(\" \".join(lemmatizing))\n",
    "    # Stemming corpus\n",
    "    elif lemmat == False and stem == True:\n",
    "        p_stemmer = PorterStemmer()\n",
    "        stemming = [p_stemmer.stem(word) for word in meaningful_words]\n",
    "        return(\" \".join(stemming))\n",
    "    # Simple cleaning of corpus\n",
    "    else:\n",
    "        return(\" \".join(meaningful_words))"
   ]
  },
  {
   "cell_type": "markdown",
   "metadata": {
    "Collapsed": "false"
   },
   "source": [
    "Stemming the corpus loses the contextual interpretability that might be necessary for visualization when it comes to choosing which words to use in the modeling process. This is evident in the stemmed corpus below where words like \"earthquake\", \"wildfire\" and \"evacuation\" are shortened down to \"earthquak\" and \"wildfir\" and \"evacu\". In the case of \"earthquake\" and \"wildfire\" it is still relativelly easy to guess what the original word was but with a stemmed word like \"evacu\", the original word could have been \"evacuation\", \"evacuate\", \"evacuating\", and so on. When using data such as a tweet, where slang and subtly mispelled words can change the meaning of a tweet, it is important to retain as much of the properly spelled words as possible for the sake of interpretibility of the model when classifying between a disaster and non disaster related tweet."
   ]
  },
  {
   "cell_type": "code",
   "execution_count": 7,
   "metadata": {
    "Collapsed": "false"
   },
   "outputs": [],
   "source": [
    "X_stem = df['text'].str.replace('http\\S+|www.\\S+', ' ', case = False).copy()\n",
    "X_stem = X_stem.apply(lambda tweet: tweet_cleaning(tweet, stem = True))"
   ]
  },
  {
   "cell_type": "code",
   "execution_count": 8,
   "metadata": {
    "Collapsed": "false"
   },
   "outputs": [
    {
     "data": {
      "text/plain": [
       "0            deed reason earthquak may allah forgiv us\n",
       "1                 forest fire near la rong sask canada\n",
       "2    resid ask shelter place notifi offic evacu she...\n",
       "3          peopl receiv wildfir evacu order california\n",
       "4    got sent photo rubi alaska smoke wildfir pour ...\n",
       "Name: text, dtype: object"
      ]
     },
     "execution_count": 8,
     "metadata": {},
     "output_type": "execute_result"
    }
   ],
   "source": [
    "X_stem.head()"
   ]
  },
  {
   "cell_type": "markdown",
   "metadata": {
    "Collapsed": "false"
   },
   "source": [
    "In order to maintain the readability of the tweets, the lemmatizer will be used instead of the stemmer."
   ]
  },
  {
   "cell_type": "code",
   "execution_count": 10,
   "metadata": {
    "Collapsed": "false"
   },
   "outputs": [],
   "source": [
    "X = X.apply(lambda tweet: tweet_cleaning(tweet, lemmat = True))"
   ]
  },
  {
   "cell_type": "code",
   "execution_count": 11,
   "metadata": {
    "Collapsed": "false"
   },
   "outputs": [
    {
     "data": {
      "text/plain": [
       "0           deed reason earthquake may allah forgive u\n",
       "1                forest fire near la ronge sask canada\n",
       "2    resident asked shelter place notified officer ...\n",
       "3    people receive wildfire evacuation order calif...\n",
       "4    got sent photo ruby alaska smoke wildfire pour...\n",
       "Name: text, dtype: object"
      ]
     },
     "execution_count": 11,
     "metadata": {},
     "output_type": "execute_result"
    }
   ],
   "source": [
    "X.head()"
   ]
  },
  {
   "cell_type": "markdown",
   "metadata": {
    "Collapsed": "false"
   },
   "source": [
    "### EDA"
   ]
  },
  {
   "cell_type": "markdown",
   "metadata": {
    "Collapsed": "false"
   },
   "source": [
    "With general text cleaning and processing done, I checked the classification balance of the tweets. While the negative class (non-disaster related tweets) is larger, there is not a significance class imbalance that will require oversampling. However, an adaboost model may be useful to run later for validation purposes just in case.  "
   ]
  },
  {
   "cell_type": "code",
   "execution_count": 13,
   "metadata": {
    "Collapsed": "false"
   },
   "outputs": [
    {
     "data": {
      "text/plain": [
       "0    0.57034\n",
       "1    0.42966\n",
       "Name: target, dtype: float64"
      ]
     },
     "execution_count": 13,
     "metadata": {},
     "output_type": "execute_result"
    },
    {
     "data": {
      "image/png": "[encoded data removed]",
      "text/plain": [
       "<Figure size 432x288 with 1 Axes>"
      ]
     },
     "metadata": {
      "needs_background": "light"
     },
     "output_type": "display_data"
    }
   ],
   "source": [
    "class_balance = y.value_counts(normalize = True)\n",
    "sns.barplot(class_balance.index, class_balance)\n",
    "plt.gca().set_ylabel('tweet percentage')\n",
    "plt.gca().set_title('Tweet Class Balance')\n",
    "class_balance"
   ]
  },
  {
   "cell_type": "markdown",
   "metadata": {
    "Collapsed": "false"
   },
   "source": [
    "The corpus will be processed through a CountVectorizer and a TfidfVectorizer in order to run classification models based off the term frequency as well as the term frequency inverse document frequency of all words in the corpus. The CountVectorizer will model based purely on how often a word appears in the corpus but the TfidfVectorizer will take into account the number of times a word appears in a tweet but also the number of tweets that a word apears in. This will be more useful in the classification model because it will essentially rank a word based off its contextual importance. Words that are high in occurence such as \"like\" or \"the\" will show higher weight in the model in a count vectorized training set. However, a tfidf vectorized training set will rank words by term frequency but put higher weight on words with lower document frequency on the assumption that those words will have higher contextual importance. Both the CountVectorizer and the TfidfVectorizer will be used for comparison. "
   ]
  },
  {
   "cell_type": "code",
   "execution_count": 14,
   "metadata": {
    "Collapsed": "false"
   },
   "outputs": [],
   "source": [
    "#Instantiate Vectorizers\n",
    "cvec = CountVectorizer()\n",
    "tfidf = TfidfVectorizer()\n",
    "\n",
    "# Train/Test Split\n",
    "X_train,X_test, y_train, y_test = train_test_split(X, y, \n",
    "                                                   stratify = y, # maintains the class balance \n",
    "                                                   random_state = 42)"
   ]
  },
  {
   "cell_type": "code",
   "execution_count": 16,
   "metadata": {
    "Collapsed": "false"
   },
   "outputs": [],
   "source": [
    "# Count Vectorized Corpus\n",
    "X_cvec = pd.DataFrame(cvec.fit_transform(X).toarray(),\n",
    "                      columns = cvec.get_feature_names())\n",
    "\n",
    "# TfidfVectorized Corpus\n",
    "X_tfidf = pd.DataFrame(tfidf.fit_transform(X).toarray(),\n",
    "                       columns = tfidf.get_feature_names())\n",
    "\n",
    "# CountVectorized train/test split\n",
    "X_train_cvec = pd.DataFrame(cvec.fit_transform(X_train).toarray(), \n",
    "                       columns = cvec.get_feature_names())\n",
    "X_test_cvec = pd.DataFrame(cvec.transform(X_test).toarray(),\n",
    "                      columns = cvec.get_feature_names())\n",
    "\n",
    "# TfidfVectorized train/test split\n",
    "X_train_tfidf = pd.DataFrame(tfidf.fit_transform(X_train).toarray(), \n",
    "                       columns = tfidf.get_feature_names())\n",
    "X_test_tfidf = pd.DataFrame(tfidf.transform(X_test).toarray(),\n",
    "                      columns = tfidf.get_feature_names())"
   ]
  },
  {
   "cell_type": "code",
   "execution_count": 17,
   "metadata": {
    "Collapsed": "false"
   },
   "outputs": [
    {
     "data": {
      "text/html": [
       "<div>\n",
       "<style scoped>\n",
       "    .dataframe tbody tr th:only-of-type {\n",
       "        vertical-align: middle;\n",
       "    }\n",
       "\n",
       "    .dataframe tbody tr th {\n",
       "        vertical-align: top;\n",
       "    }\n",
       "\n",
       "    .dataframe thead th {\n",
       "        text-align: right;\n",
       "    }\n",
       "</style>\n",
       "<table border=\"1\" class=\"dataframe\">\n",
       "  <thead>\n",
       "    <tr style=\"text-align: right;\">\n",
       "      <th></th>\n",
       "      <th>aa</th>\n",
       "      <th>aaaaaaallll</th>\n",
       "      <th>aaaaaand</th>\n",
       "      <th>aaarrrgghhh</th>\n",
       "      <th>aace</th>\n",
       "      <th>aal</th>\n",
       "      <th>aan</th>\n",
       "      <th>aannnnd</th>\n",
       "      <th>aar</th>\n",
       "      <th>aaronthefm</th>\n",
       "      <th>...</th>\n",
       "      <th>zojadelin</th>\n",
       "      <th>zombie</th>\n",
       "      <th>zone</th>\n",
       "      <th>zoom</th>\n",
       "      <th>zouma</th>\n",
       "      <th>zourryart</th>\n",
       "      <th>zrnf</th>\n",
       "      <th>zumiez</th>\n",
       "      <th>zurich</th>\n",
       "      <th>zxathetis</th>\n",
       "    </tr>\n",
       "  </thead>\n",
       "  <tbody>\n",
       "    <tr>\n",
       "      <th>0</th>\n",
       "      <td>0</td>\n",
       "      <td>0</td>\n",
       "      <td>0</td>\n",
       "      <td>0</td>\n",
       "      <td>0</td>\n",
       "      <td>0</td>\n",
       "      <td>0</td>\n",
       "      <td>0</td>\n",
       "      <td>0</td>\n",
       "      <td>0</td>\n",
       "      <td>...</td>\n",
       "      <td>0</td>\n",
       "      <td>0</td>\n",
       "      <td>0</td>\n",
       "      <td>0</td>\n",
       "      <td>0</td>\n",
       "      <td>0</td>\n",
       "      <td>0</td>\n",
       "      <td>0</td>\n",
       "      <td>0</td>\n",
       "      <td>0</td>\n",
       "    </tr>\n",
       "    <tr>\n",
       "      <th>1</th>\n",
       "      <td>0</td>\n",
       "      <td>0</td>\n",
       "      <td>0</td>\n",
       "      <td>0</td>\n",
       "      <td>0</td>\n",
       "      <td>0</td>\n",
       "      <td>0</td>\n",
       "      <td>0</td>\n",
       "      <td>0</td>\n",
       "      <td>0</td>\n",
       "      <td>...</td>\n",
       "      <td>0</td>\n",
       "      <td>0</td>\n",
       "      <td>0</td>\n",
       "      <td>0</td>\n",
       "      <td>0</td>\n",
       "      <td>0</td>\n",
       "      <td>0</td>\n",
       "      <td>0</td>\n",
       "      <td>0</td>\n",
       "      <td>0</td>\n",
       "    </tr>\n",
       "    <tr>\n",
       "      <th>2</th>\n",
       "      <td>0</td>\n",
       "      <td>0</td>\n",
       "      <td>0</td>\n",
       "      <td>0</td>\n",
       "      <td>0</td>\n",
       "      <td>0</td>\n",
       "      <td>0</td>\n",
       "      <td>0</td>\n",
       "      <td>0</td>\n",
       "      <td>0</td>\n",
       "      <td>...</td>\n",
       "      <td>0</td>\n",
       "      <td>0</td>\n",
       "      <td>0</td>\n",
       "      <td>0</td>\n",
       "      <td>0</td>\n",
       "      <td>0</td>\n",
       "      <td>0</td>\n",
       "      <td>0</td>\n",
       "      <td>0</td>\n",
       "      <td>0</td>\n",
       "    </tr>\n",
       "    <tr>\n",
       "      <th>3</th>\n",
       "      <td>0</td>\n",
       "      <td>0</td>\n",
       "      <td>0</td>\n",
       "      <td>0</td>\n",
       "      <td>0</td>\n",
       "      <td>0</td>\n",
       "      <td>0</td>\n",
       "      <td>0</td>\n",
       "      <td>0</td>\n",
       "      <td>0</td>\n",
       "      <td>...</td>\n",
       "      <td>0</td>\n",
       "      <td>0</td>\n",
       "      <td>0</td>\n",
       "      <td>0</td>\n",
       "      <td>0</td>\n",
       "      <td>0</td>\n",
       "      <td>0</td>\n",
       "      <td>0</td>\n",
       "      <td>0</td>\n",
       "      <td>0</td>\n",
       "    </tr>\n",
       "    <tr>\n",
       "      <th>4</th>\n",
       "      <td>0</td>\n",
       "      <td>0</td>\n",
       "      <td>0</td>\n",
       "      <td>0</td>\n",
       "      <td>0</td>\n",
       "      <td>0</td>\n",
       "      <td>0</td>\n",
       "      <td>0</td>\n",
       "      <td>0</td>\n",
       "      <td>0</td>\n",
       "      <td>...</td>\n",
       "      <td>0</td>\n",
       "      <td>0</td>\n",
       "      <td>0</td>\n",
       "      <td>0</td>\n",
       "      <td>0</td>\n",
       "      <td>0</td>\n",
       "      <td>0</td>\n",
       "      <td>0</td>\n",
       "      <td>0</td>\n",
       "      <td>0</td>\n",
       "    </tr>\n",
       "  </tbody>\n",
       "</table>\n",
       "<p>5 rows × 12504 columns</p>\n",
       "</div>"
      ],
      "text/plain": [
       "   aa  aaaaaaallll  aaaaaand  aaarrrgghhh  aace  aal  aan  aannnnd  aar  \\\n",
       "0   0            0         0            0     0    0    0        0    0   \n",
       "1   0            0         0            0     0    0    0        0    0   \n",
       "2   0            0         0            0     0    0    0        0    0   \n",
       "3   0            0         0            0     0    0    0        0    0   \n",
       "4   0            0         0            0     0    0    0        0    0   \n",
       "\n",
       "   aaronthefm  ...  zojadelin  zombie  zone  zoom  zouma  zourryart  zrnf  \\\n",
       "0           0  ...          0       0     0     0      0          0     0   \n",
       "1           0  ...          0       0     0     0      0          0     0   \n",
       "2           0  ...          0       0     0     0      0          0     0   \n",
       "3           0  ...          0       0     0     0      0          0     0   \n",
       "4           0  ...          0       0     0     0      0          0     0   \n",
       "\n",
       "   zumiez  zurich  zxathetis  \n",
       "0       0       0          0  \n",
       "1       0       0          0  \n",
       "2       0       0          0  \n",
       "3       0       0          0  \n",
       "4       0       0          0  \n",
       "\n",
       "[5 rows x 12504 columns]"
      ]
     },
     "execution_count": 17,
     "metadata": {},
     "output_type": "execute_result"
    }
   ],
   "source": [
    "X_train_cvec.head()"
   ]
  },
  {
   "cell_type": "code",
   "execution_count": 18,
   "metadata": {
    "Collapsed": "false"
   },
   "outputs": [
    {
     "data": {
      "text/html": [
       "<div>\n",
       "<style scoped>\n",
       "    .dataframe tbody tr th:only-of-type {\n",
       "        vertical-align: middle;\n",
       "    }\n",
       "\n",
       "    .dataframe tbody tr th {\n",
       "        vertical-align: top;\n",
       "    }\n",
       "\n",
       "    .dataframe thead th {\n",
       "        text-align: right;\n",
       "    }\n",
       "</style>\n",
       "<table border=\"1\" class=\"dataframe\">\n",
       "  <thead>\n",
       "    <tr style=\"text-align: right;\">\n",
       "      <th></th>\n",
       "      <th>aa</th>\n",
       "      <th>aaaaaaallll</th>\n",
       "      <th>aaaaaand</th>\n",
       "      <th>aaarrrgghhh</th>\n",
       "      <th>aace</th>\n",
       "      <th>aal</th>\n",
       "      <th>aan</th>\n",
       "      <th>aannnnd</th>\n",
       "      <th>aar</th>\n",
       "      <th>aaronthefm</th>\n",
       "      <th>...</th>\n",
       "      <th>zojadelin</th>\n",
       "      <th>zombie</th>\n",
       "      <th>zone</th>\n",
       "      <th>zoom</th>\n",
       "      <th>zouma</th>\n",
       "      <th>zourryart</th>\n",
       "      <th>zrnf</th>\n",
       "      <th>zumiez</th>\n",
       "      <th>zurich</th>\n",
       "      <th>zxathetis</th>\n",
       "    </tr>\n",
       "  </thead>\n",
       "  <tbody>\n",
       "    <tr>\n",
       "      <th>0</th>\n",
       "      <td>0.0</td>\n",
       "      <td>0.0</td>\n",
       "      <td>0.0</td>\n",
       "      <td>0.0</td>\n",
       "      <td>0.0</td>\n",
       "      <td>0.0</td>\n",
       "      <td>0.0</td>\n",
       "      <td>0.0</td>\n",
       "      <td>0.0</td>\n",
       "      <td>0.0</td>\n",
       "      <td>...</td>\n",
       "      <td>0.0</td>\n",
       "      <td>0.0</td>\n",
       "      <td>0.0</td>\n",
       "      <td>0.0</td>\n",
       "      <td>0.0</td>\n",
       "      <td>0.0</td>\n",
       "      <td>0.0</td>\n",
       "      <td>0.0</td>\n",
       "      <td>0.0</td>\n",
       "      <td>0.0</td>\n",
       "    </tr>\n",
       "    <tr>\n",
       "      <th>1</th>\n",
       "      <td>0.0</td>\n",
       "      <td>0.0</td>\n",
       "      <td>0.0</td>\n",
       "      <td>0.0</td>\n",
       "      <td>0.0</td>\n",
       "      <td>0.0</td>\n",
       "      <td>0.0</td>\n",
       "      <td>0.0</td>\n",
       "      <td>0.0</td>\n",
       "      <td>0.0</td>\n",
       "      <td>...</td>\n",
       "      <td>0.0</td>\n",
       "      <td>0.0</td>\n",
       "      <td>0.0</td>\n",
       "      <td>0.0</td>\n",
       "      <td>0.0</td>\n",
       "      <td>0.0</td>\n",
       "      <td>0.0</td>\n",
       "      <td>0.0</td>\n",
       "      <td>0.0</td>\n",
       "      <td>0.0</td>\n",
       "    </tr>\n",
       "    <tr>\n",
       "      <th>2</th>\n",
       "      <td>0.0</td>\n",
       "      <td>0.0</td>\n",
       "      <td>0.0</td>\n",
       "      <td>0.0</td>\n",
       "      <td>0.0</td>\n",
       "      <td>0.0</td>\n",
       "      <td>0.0</td>\n",
       "      <td>0.0</td>\n",
       "      <td>0.0</td>\n",
       "      <td>0.0</td>\n",
       "      <td>...</td>\n",
       "      <td>0.0</td>\n",
       "      <td>0.0</td>\n",
       "      <td>0.0</td>\n",
       "      <td>0.0</td>\n",
       "      <td>0.0</td>\n",
       "      <td>0.0</td>\n",
       "      <td>0.0</td>\n",
       "      <td>0.0</td>\n",
       "      <td>0.0</td>\n",
       "      <td>0.0</td>\n",
       "    </tr>\n",
       "    <tr>\n",
       "      <th>3</th>\n",
       "      <td>0.0</td>\n",
       "      <td>0.0</td>\n",
       "      <td>0.0</td>\n",
       "      <td>0.0</td>\n",
       "      <td>0.0</td>\n",
       "      <td>0.0</td>\n",
       "      <td>0.0</td>\n",
       "      <td>0.0</td>\n",
       "      <td>0.0</td>\n",
       "      <td>0.0</td>\n",
       "      <td>...</td>\n",
       "      <td>0.0</td>\n",
       "      <td>0.0</td>\n",
       "      <td>0.0</td>\n",
       "      <td>0.0</td>\n",
       "      <td>0.0</td>\n",
       "      <td>0.0</td>\n",
       "      <td>0.0</td>\n",
       "      <td>0.0</td>\n",
       "      <td>0.0</td>\n",
       "      <td>0.0</td>\n",
       "    </tr>\n",
       "    <tr>\n",
       "      <th>4</th>\n",
       "      <td>0.0</td>\n",
       "      <td>0.0</td>\n",
       "      <td>0.0</td>\n",
       "      <td>0.0</td>\n",
       "      <td>0.0</td>\n",
       "      <td>0.0</td>\n",
       "      <td>0.0</td>\n",
       "      <td>0.0</td>\n",
       "      <td>0.0</td>\n",
       "      <td>0.0</td>\n",
       "      <td>...</td>\n",
       "      <td>0.0</td>\n",
       "      <td>0.0</td>\n",
       "      <td>0.0</td>\n",
       "      <td>0.0</td>\n",
       "      <td>0.0</td>\n",
       "      <td>0.0</td>\n",
       "      <td>0.0</td>\n",
       "      <td>0.0</td>\n",
       "      <td>0.0</td>\n",
       "      <td>0.0</td>\n",
       "    </tr>\n",
       "  </tbody>\n",
       "</table>\n",
       "<p>5 rows × 12504 columns</p>\n",
       "</div>"
      ],
      "text/plain": [
       "    aa  aaaaaaallll  aaaaaand  aaarrrgghhh  aace  aal  aan  aannnnd  aar  \\\n",
       "0  0.0          0.0       0.0          0.0   0.0  0.0  0.0      0.0  0.0   \n",
       "1  0.0          0.0       0.0          0.0   0.0  0.0  0.0      0.0  0.0   \n",
       "2  0.0          0.0       0.0          0.0   0.0  0.0  0.0      0.0  0.0   \n",
       "3  0.0          0.0       0.0          0.0   0.0  0.0  0.0      0.0  0.0   \n",
       "4  0.0          0.0       0.0          0.0   0.0  0.0  0.0      0.0  0.0   \n",
       "\n",
       "   aaronthefm  ...  zojadelin  zombie  zone  zoom  zouma  zourryart  zrnf  \\\n",
       "0         0.0  ...        0.0     0.0   0.0   0.0    0.0        0.0   0.0   \n",
       "1         0.0  ...        0.0     0.0   0.0   0.0    0.0        0.0   0.0   \n",
       "2         0.0  ...        0.0     0.0   0.0   0.0    0.0        0.0   0.0   \n",
       "3         0.0  ...        0.0     0.0   0.0   0.0    0.0        0.0   0.0   \n",
       "4         0.0  ...        0.0     0.0   0.0   0.0    0.0        0.0   0.0   \n",
       "\n",
       "   zumiez  zurich  zxathetis  \n",
       "0     0.0     0.0        0.0  \n",
       "1     0.0     0.0        0.0  \n",
       "2     0.0     0.0        0.0  \n",
       "3     0.0     0.0        0.0  \n",
       "4     0.0     0.0        0.0  \n",
       "\n",
       "[5 rows x 12504 columns]"
      ]
     },
     "execution_count": 18,
     "metadata": {},
     "output_type": "execute_result"
    }
   ],
   "source": [
    "X_train_tfidf.head()"
   ]
  },
  {
   "cell_type": "markdown",
   "metadata": {
    "Collapsed": "false"
   },
   "source": [
    "**Comparison of Top Words using TfidfVectorizer and CountVectorizer**<br>\n",
    "\n",
    "Below you can see the top 10 most influential words models will be using to classify the tweets using both the count and tfidf vectorizer methods. Both methods have recognized the importance of words such as \"fire\" and \"disaster\" in the disaster related tweets. However, the CountVectorizer will rank \"via\", a word which can be used in a number of contexts not related to disaster classification, as the 5th most important word in a model simply because it occurs more frequently. The TfidfVectorizer is clearly able to realize that while \"via\" may be an important word in the corpus, it is not nearly as important because it does not show up as frequently in disaster related tweets and therefore ranks the word lower using the tfidf metric. This shows that a model using a tfidf vectorized corpus may perform better than a model using a count vectorized corpus. This will be evident in the validation scores used later on. "
   ]
  },
  {
   "cell_type": "code",
   "execution_count": 19,
   "metadata": {
    "Collapsed": "false"
   },
   "outputs": [],
   "source": [
    "tfidf_vis= pd.merge(X_tfidf,df['target'], left_index= True, right_index= True)\n",
    "cvec_vis = pd.merge(X_cvec, df['target'], left_index= True, right_index = True)"
   ]
  },
  {
   "cell_type": "code",
   "execution_count": 20,
   "metadata": {
    "Collapsed": "false"
   },
   "outputs": [
    {
     "data": {
      "image/png": "[encoded data removed]",
      "text/plain": [
       "<Figure size 720x720 with 1 Axes>"
      ]
     },
     "metadata": {
      "needs_background": "light"
     },
     "output_type": "display_data"
    }
   ],
   "source": [
    "tfidf_vis.loc[tfidf_vis['target_y']==1].drop(columns = 'target_y').mean().sort_values(ascending= True).tail(10).plot(kind = 'barh', figsize = (10,10));\n",
    "plt.yticks(fontsize = 15);\n",
    "plt.xticks(fontsize = 10);\n",
    "plt.title('Top Mean tf-idf of Words in Disaster Tweets', fontsize = 15);"
   ]
  },
  {
   "cell_type": "code",
   "execution_count": 21,
   "metadata": {
    "Collapsed": "false"
   },
   "outputs": [
    {
     "data": {
      "image/png": "[encoded data removed]",
      "text/plain": [
       "<Figure size 720x720 with 1 Axes>"
      ]
     },
     "metadata": {
      "needs_background": "light"
     },
     "output_type": "display_data"
    }
   ],
   "source": [
    "cvec_vis.loc[cvec_vis['target_y']==1].drop(columns = 'target_y').sum().sort_values(ascending= True).tail(10).plot(kind = 'barh', figsize = (10,10));\n",
    "plt.yticks(fontsize = 15);\n",
    "plt.xticks(fontsize = 10);\n",
    "plt.title('Top 50 Most Frequent Words(count vectorized) in Disaster Tweets', fontsize = 15);"
   ]
  },
  {
   "cell_type": "code",
   "execution_count": 22,
   "metadata": {
    "Collapsed": "false"
   },
   "outputs": [
    {
     "data": {
      "image/png": "[encoded data removed]",
      "text/plain": [
       "<Figure size 720x720 with 1 Axes>"
      ]
     },
     "metadata": {
      "needs_background": "light"
     },
     "output_type": "display_data"
    }
   ],
   "source": [
    "tfidf_vis.loc[tfidf_vis['target_y']==0].drop(columns = 'target_y').mean().sort_values(ascending= True).tail(10).plot(kind = 'barh', figsize = (10,10));\n",
    "plt.yticks(fontsize = 15);\n",
    "plt.xticks(fontsize = 10);\n",
    "plt.title('Top Mean tf-idf of Words in Non-Disaster Tweets', fontsize = 15);"
   ]
  },
  {
   "cell_type": "code",
   "execution_count": 23,
   "metadata": {
    "Collapsed": "false"
   },
   "outputs": [
    {
     "data": {
      "image/png": "[encoded data removed]",
      "text/plain": [
       "<Figure size 720x720 with 1 Axes>"
      ]
     },
     "metadata": {
      "needs_background": "light"
     },
     "output_type": "display_data"
    }
   ],
   "source": [
    "cvec_vis.loc[cvec_vis['target_y']==0].drop(columns = 'target_y').sum().sort_values(ascending= True).tail(10).plot(kind = 'barh', figsize = (10,10));\n",
    "plt.yticks(fontsize = 15);\n",
    "plt.xticks(fontsize = 10);\n",
    "plt.title('Top 50 Most Frequent Words(count vectorized) in Non-Disaster Tweets', fontsize = 15);"
   ]
  },
  {
   "cell_type": "markdown",
   "metadata": {
    "Collapsed": "false"
   },
   "source": [
    "### Modeling and Validation"
   ]
  },
  {
   "cell_type": "markdown",
   "metadata": {
    "Collapsed": "false"
   },
   "source": [
    "##### Baseline Models"
   ]
  },
  {
   "cell_type": "markdown",
   "metadata": {
    "Collapsed": "false"
   },
   "source": [
    "The baseline model will be the model that always predicts the positive class (Disaster Tweet). The validation scores of the final model will compared to the baseline model to test its performance. The two metrics used will be:<br>\n",
    "- ***Accuracy:*** this will be a generic measurement of the number of correct predictions over the number of total predictions\n",
    "    - This score ranges from 0-1 with a desired score being as close to 1 as possible\n",
    "- ***F1-Score/F measure:*** this will be the prime metric used as it will measure the performance of the model by its _precision_($\\frac{true positives}{predicted positives}$)<br> but also by its _recall or sensitivity_($\\frac{True Positives}{All Positives (both true and false)}$)<br>\n",
    "    - $F measure = \\frac{2 * precision * recall}{precision + recall}$\n",
    "    - The f1-score will be able to validate how many tweets the model classifies correctly as well as whether it is able to minimize the false positives in the predictions\n",
    "    - The ideal f1-score ranges from 0-1 with a desired score being as close to 1 as possible. Having an f1-score of 1 is unrealistic because it would mean that the model was able to achieve 100% precision and recall on an unfamiliar testing dataset.<br>\n",
    "\n",
    "For a model that is responsible for recognizing tweets pertinent to a disaster, it is important to consider the f1-score depending on the use case. If it is being used on realtime data for the sake of alerts, the model must be accurate and precise enough to err on the side of False positives, rather than false negatives because a significant portion of false negatives could mean that while there are emergencies and disasters occuring, they are not being recognized and may be ignored at the risk of human safety.<br>\n",
    "\n",
    "The baseline accuracy and f1 scores are calculated and shown below:"
   ]
  },
  {
   "cell_type": "code",
   "execution_count": 24,
   "metadata": {
    "Collapsed": "false"
   },
   "outputs": [
    {
     "data": {
      "text/plain": [
       "0.57"
      ]
     },
     "execution_count": 24,
     "metadata": {},
     "output_type": "execute_result"
    }
   ],
   "source": [
    "# Accuracy for baseline model\n",
    "baseline_acc = round(df['target'].value_counts(normalize = True)[0],2)\n",
    "baseline_acc"
   ]
  },
  {
   "cell_type": "code",
   "execution_count": 25,
   "metadata": {
    "Collapsed": "false"
   },
   "outputs": [
    {
     "name": "stdout",
     "output_type": "stream",
     "text": [
      "baseline f measure: 0.601\n"
     ]
    }
   ],
   "source": [
    "# Baseline predictions for model that always predicts the positive class\n",
    "baseline_preds = y.map({0:1,1:1}) \n",
    "\n",
    "# f-measure for baseline model\n",
    "baseline_f1 = round(f1_score(y, baseline_preds),3)\n",
    "print(f'baseline f measure: {baseline_f1}')"
   ]
  },
  {
   "cell_type": "markdown",
   "metadata": {
    "Collapsed": "false"
   },
   "source": [
    "##### Modelling Gridsearch"
   ]
  },
  {
   "cell_type": "markdown",
   "metadata": {
    "Collapsed": "false"
   },
   "source": [
    "In order to decide which model would be the best, a gridsearch will be run using the default parameters of 3 types of models:\n",
    "- *a support vector machine for classification*\n",
    "    - Text data is typically linearly separable especially with a dataset like this which has been hand classified between the positive and negative class. Therefore, the initial gridsearch can use a linear kernel despite having high dimensionality in the dataset. Using a linear kernel is also faster than using other kernels to map the data to a higher dimension such as `rbf` or `sigmoid`. However, due to the large number of features in this dataset, using a more robust kernel to create the decision boundary may be helpful to increase the accuracy and f measure of the final model. \n",
    "- *a random forest classification model*\n",
    "    - This classification model will learn from multiple decision trees and make a final classification based on the majority vote of the trees, randomly sampling which features to use at each node.\n",
    "    - This is a useful model to run because the aggregated bootstrap (bagging) used in subsampling the data set as well as the random selection of features at each node reduces overfitting of the model by reducing the correlation of the features used to make predictions. \n",
    "- *an adaboost classification model:* \n",
    "    - While a random forest model typically yields higher accuracy scores, the adaptive boosting method is better for higher dimensional data with a large number of features. This model will be ran as well to be compared with the other two. "
   ]
  },
  {
   "cell_type": "code",
   "execution_count": 26,
   "metadata": {
    "Collapsed": "false"
   },
   "outputs": [],
   "source": [
    "# Instantiating Pipelines for potential models\n",
    "pipe_rf_cvec = Pipeline([('cvec',CountVectorizer()),                         \n",
    "                         ('rf', RandomForestClassifier(n_estimators= 100,\n",
    "                                                       random_state = 42))])\n",
    "pipe_rf_tfidf = Pipeline([('tfidf', TfidfVectorizer()),                          \n",
    "                          ('rf', RandomForestClassifier(n_estimators=100,\n",
    "                                                        random_state = 42))])\n",
    "pipe_ada_cvec = Pipeline([('cvec', CountVectorizer()),                          \n",
    "                          ('ada', AdaBoostClassifier(n_estimators=100,\n",
    "                                                     random_state = 42))])\n",
    "pipe_ada_tfidf = Pipeline([('tfidf', TfidfVectorizer()),                           \n",
    "                           ('ada', AdaBoostClassifier(n_estimators = 100,\n",
    "                                                      random_state = 42))])\n",
    "pipe_svc_cvec = Pipeline([('cvec', CountVectorizer()),\n",
    "                           ('svc', SVC(kernel = 'linear',\n",
    "                                       gamma = 'scale',\n",
    "                                       random_state = 42))])\n",
    "pipe_svc_tfidf = Pipeline([('tfidf', TfidfVectorizer()),                    \n",
    "                           ('svc', SVC(kernel = 'linear',\n",
    "                                       gamma = 'scale',\n",
    "                                       random_state = 42))])\n",
    "# Instantiating vectorizer parameters\n",
    "cvec_params = {'cvec__stop_words':[None,'english'],\n",
    "               'cvec__ngram_range':[(1,1),(1,2),(1,3)]}\n",
    "tfidf_params = {'tfidf__stop_words': [None, 'english'],\n",
    "                'tfidf__ngram_range': [(1,1),(1,2),(1,3)]}\n",
    "\n",
    "# Random Forest GridSearches\n",
    "grid_rf_cvec = GridSearchCV(pipe_rf_cvec, cvec_params,cv = 5)\n",
    "grid_rf_tfidf = GridSearchCV(pipe_rf_tfidf, tfidf_params, cv = 5)\n",
    "\n",
    "\n",
    "# Adaboost GridSearches\n",
    "grid_ada_cvec = GridSearchCV(pipe_ada_cvec, cvec_params, cv = 5)\n",
    "grid_ada_tfidf = GridSearchCV(pipe_ada_tfidf, tfidf_params, cv = 5)\n",
    "\n",
    "# SVC GridSearch\n",
    "grid_svc_cvec = GridSearchCV(pipe_svc_cvec,cvec_params, cv = 5)\n",
    "grid_svc_tfidf = GridSearchCV(pipe_svc_tfidf, tfidf_params, cv = 5)"
   ]
  },
  {
   "cell_type": "markdown",
   "metadata": {
    "Collapsed": "false"
   },
   "source": [
    "##### Gridsearch and Validation Function"
   ]
  },
  {
   "cell_type": "code",
   "execution_count": 27,
   "metadata": {
    "Collapsed": "false"
   },
   "outputs": [],
   "source": [
    "# Function used to run specified models and print out validation metrics\n",
    "def run_model(models, model_names, predictions):\n",
    "    # loops through each gridsearch and prints out accuracy scores and parameters for the best estimator\n",
    "    for (model, model_name, pred) in zip(models, model_names, predictions):\n",
    "        model.fit(X_train,y_train)\n",
    "        pred = model.best_estimator_.predict(X_test)\n",
    "        \n",
    "        # calculates confusion matrix metrics for each model specifically\n",
    "        tn,fp,fn,tp = confusion_matrix(y_test, pred).ravel()\n",
    "        sens = tp/(tp+fn)\n",
    "        spec = tn/(tn+fp)\n",
    "        acc = (tp+tn)/(tn+tp+fp+fn)\n",
    "        precision = tp/(tp+fp)\n",
    "        false_pos_rate = fn/(tp+fn)\n",
    "        \n",
    "        # calculates model-specific f1 score\n",
    "        f_measure = f1_score(y_test, pred)\n",
    "        \n",
    "        # Prints out best parameter combinations as well as validation metrics \n",
    "        # Note that while not all of the confusion matrix metrics are printed, they can be added here if need be.\n",
    "        print(f'{model_name}')\n",
    "        print(f'best params: {model.best_params_}')\n",
    "        print(f'best estimator train accuracy: {model.best_estimator_.score(X_train,y_train)}')\n",
    "        print(f'best estimator test accuracy: {model.best_estimator_.score(X_test,y_test)}')\n",
    "    \n",
    "        print(f'sensitivity: {sens}, specificity: {spec}, precision: {precision}')\n",
    "   \n",
    "        print(f'f1_score: {f_measure}')\n",
    "        print()\n",
    "    # Pre-defined baseline metrics\n",
    "    print(f'baseline accuracy:{baseline_acc}')\n",
    "    print(f'baseline f measure: {baseline_f1}')"
   ]
  },
  {
   "cell_type": "code",
   "execution_count": 28,
   "metadata": {
    "Collapsed": "false"
   },
   "outputs": [
    {
     "name": "stdout",
     "output_type": "stream",
     "text": [
      "CountVectorized Random Forest\n",
      "best params: {'cvec__ngram_range': (1, 1), 'cvec__stop_words': None}\n",
      "best estimator train accuracy: 0.9886144683832545\n",
      "best estimator test accuracy: 0.7977941176470589\n",
      "sensitivity: 0.6699266503667481, specificity: 0.8941068139963168, precision: 0.8265460030165912\n",
      "f1_score: 0.7400405131667792\n",
      "\n",
      "TFIDF Random Forest\n",
      "best params: {'tfidf__ngram_range': (1, 2), 'tfidf__stop_words': None}\n",
      "best estimator train accuracy: 0.9887896304081275\n",
      "best estimator test accuracy: 0.7972689075630253\n",
      "sensitivity: 0.6723716381418093, specificity: 0.8913443830570903, precision: 0.8233532934131736\n",
      "f1_score: 0.740242261103634\n",
      "\n",
      "CountVectorized Adaboost\n",
      "best params: {'cvec__ngram_range': (1, 2), 'cvec__stop_words': 'english'}\n",
      "best estimator train accuracy: 0.7880539499036608\n",
      "best estimator test accuracy: 0.7725840336134454\n",
      "sensitivity: 0.6625916870415648, specificity: 0.8554327808471455, precision: 0.7753934191702432\n",
      "f1_score: 0.7145682267633487\n",
      "\n",
      "TFIDF Adaboost\n",
      "best params: {'tfidf__ngram_range': (1, 2), 'tfidf__stop_words': None}\n",
      "best estimator train accuracy: 0.8018917498686284\n",
      "best estimator test accuracy: 0.7752100840336135\n",
      "sensitivity: 0.6992665036674817, specificity: 0.8324125230202578, precision: 0.7586206896551724\n",
      "f1_score: 0.7277353689567431\n",
      "\n",
      "CountVectorized SVM for Class\n",
      "best params: {'cvec__ngram_range': (1, 3), 'cvec__stop_words': None}\n",
      "best estimator train accuracy: 0.9886144683832545\n",
      "best estimator test accuracy: 0.7914915966386554\n",
      "sensitivity: 0.6638141809290954, specificity: 0.8876611418047882, precision: 0.8165413533834587\n",
      "f1_score: 0.73229939312205\n",
      "\n",
      "TFIDF SVM for CLass\n",
      "best params: {'tfidf__ngram_range': (1, 2), 'tfidf__stop_words': None}\n",
      "best estimator train accuracy: 0.9696969696969697\n",
      "best estimator test accuracy: 0.8140756302521008\n",
      "sensitivity: 0.7408312958435208, specificity: 0.8692449355432781, precision: 0.8101604278074866\n",
      "f1_score: 0.7739463601532568\n",
      "\n",
      "baseline accuracy:0.57\n",
      "baseline f measure: 0.601\n"
     ]
    }
   ],
   "source": [
    "models = [grid_rf_cvec, grid_rf_tfidf, grid_ada_cvec, \n",
    "          grid_ada_tfidf, grid_svc_cvec, grid_svc_tfidf]\n",
    "model_names = ['CountVectorized Random Forest','TFIDF Random Forest',\n",
    "               'CountVectorized Adaboost','TFIDF Adaboost', 'CountVectorized SVM for Class', 'TFIDF SVM for CLass']\n",
    "predictions = ['cvec_rf_pred', 'tfidf_rf_pred', 'cvec_adaboost_pred', 'tfidf_adaboost_pred',\n",
    "               'cvec_svc_pred', 'tfidf_svc_pred'] \n",
    "run_model(models, model_names, predictions)"
   ]
  },
  {
   "cell_type": "markdown",
   "metadata": {
    "Collapsed": "false"
   },
   "source": [
    "Based on the gridsearch, all models were able to outperform the baseline model's accuracy and f measure with the default hyperparameter.<br>\n",
    "The support vector machine for classification with the tfidf vectorized dataset yielded the highest training and testing accuracy scores with the lowest variance between the two scores.\n",
    "Therefore, the best model to be used is the TfidfVectorized SVM for classification. However, now that the ideal model has been selected, hyperparameters such as the kernel used and the regularization strength must be tuned."
   ]
  },
  {
   "cell_type": "code",
   "execution_count": 29,
   "metadata": {
    "Collapsed": "false"
   },
   "outputs": [
    {
     "name": "stdout",
     "output_type": "stream",
     "text": [
      "tf-idf vectorized Support Vector Machine\n",
      "best params: {'svc__C': 1, 'svc__kernel': 'linear', 'tfidf__ngram_range': (1, 2), 'tfidf__stop_words': None}\n",
      "best estimator train accuracy: 0.9696969696969697\n",
      "best estimator test accuracy: 0.8140756302521008\n",
      "sensitivity: 0.7408312958435208, specificity: 0.8692449355432781, precision: 0.8101604278074866\n",
      "f1_score: 0.7739463601532568\n",
      "\n",
      "baseline accuracy:0.57\n",
      "baseline f measure: 0.601\n"
     ]
    }
   ],
   "source": [
    "pipe_svc_tfidf = Pipeline([('tfidf', TfidfVectorizer()),                    \n",
    "                           ('svc', SVC(gamma = 'scale',\n",
    "                                       random_state = 42))])\n",
    "\n",
    "tfidf_params = {'tfidf__stop_words': [None],   # used no additional stop words list because the stopwords from the initial text cleaning was deemed best in previous gridsearch\n",
    "                'tfidf__ngram_range': [(1,2)], # used the best ngram range in previous model for optimized speed of gridsearch\n",
    "                'svc__C': [1,.1,.01,.001],\n",
    "                'svc__kernel': ['linear','rbf']}\n",
    "\n",
    "grid_svc_tfidf = GridSearchCV(pipe_svc_tfidf, tfidf_params, cv = 5)\n",
    "\n",
    "run_model([grid_svc_tfidf], ['tf-idf vectorized Support Vector Machine'], ['tfidf_svc_preds'])"
   ]
  },
  {
   "cell_type": "markdown",
   "metadata": {
    "Collapsed": "false"
   },
   "source": [
    "## Conclusions and Next Steps"
   ]
  },
  {
   "cell_type": "markdown",
   "metadata": {
    "Collapsed": "false"
   },
   "source": [
    "The best performing model out of all the ones tested ended up being the tfidf vectorized support vector machine for classification with a (1,2) ngram range, regularization parameter of 1, and a linear kernel which makes sense because of the linear separability of tfidf vectorized text data. \n",
    "\n",
    "This model is a relatively simple one. Even with the default parameters and basic modeling techniques, the model was able to classify over 80% of the tweets in the testing corpus correctly. Using more updated machine learning techniques such as recurrent neural networks or even another type of vectorizer such as a word2vec or doc2vec model, the model accuracy and sensitivity could be optimized significantly. Social media is a tedious source of data to be able to scrape useful information from. The data acquired for this notebook was graciously orgainized and hand classified by the company [Figure-Eight](https://www.figure-eight.com/data-for-everyone/). However, with advancements in technology and the quickly increasing availability of data, social media is becoming a more and more accessible source for data that can be used in numerous applications beneficial to society. This model that is able to distinguish between disaster related and non-disaster related tweets could be used to map the occurence of road closures, and natural disasters if location data was more readily available in order to map evacuation routes even when satellite imaging is not able to get accurate and updated information. Next steps to improving this model would be to read and infer locations using the text information in the tweets and possibly develop a map using latitude and longitude coordinates derived from these inferences. "
   ]
  }
 ],
 "metadata": {
  "kernelspec": {
   "display_name": "Python 3",
   "language": "python",
   "name": "python3"
  },
  "language_info": {
   "codemirror_mode": {
    "name": "ipython",
    "version": 3
   },
   "file_extension": ".py",
   "mimetype": "text/x-python",
   "name": "python",
   "nbconvert_exporter": "python",
   "pygments_lexer": "ipython3",
   "version": "3.7.4"
  }
 },
 "nbformat": 4,
 "nbformat_minor": 4
}
